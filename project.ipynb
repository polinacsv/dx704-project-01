{
  "cells": [
    {
      "cell_type": "markdown",
      "metadata": {
        "id": "DDELa7o5UXrY"
      },
      "source": [
        "# DX 704 Week 1 Project\n",
        "\n",
        "This week's project will build a portfolio risk and return model, and make investing recommendations for hypothetical clients.\n",
        "You will collect historical data, estimate returns and risks, construct efficient frontier portfolios, and sanity check the certainty of the maximum return portfolio."
      ]
    },
    {
      "cell_type": "markdown",
      "metadata": {
        "id": "P6SxppNu8p8k"
      },
      "source": [
        "The full project description and a template notebook are available on GitHub at the following link.\n",
        "\n",
        "https://github.com/bu-cds-dx704/dx704-project-01\n"
      ]
    },
    {
      "cell_type": "markdown",
      "metadata": {
        "id": "GmIaQcdCwObV"
      },
      "source": [
        "Feel free to use optimization tools or libraries (such as CVXOPT or scipy.optimize) to perform any calculations required for this mini project."
      ]
    },
    {
      "cell_type": "markdown",
      "metadata": {},
      "source": [
        "### Example Code\n",
        "\n",
        "You may find it helpful to refer to these GitHub repositories of Jupyter notebooks for example code.\n",
        "\n",
        "* https://github.com/bu-cds-omds/dx601-examples\n",
        "* https://github.com/bu-cds-omds/dx602-examples\n",
        "* https://github.com/bu-cds-omds/dx603-examples\n",
        "* https://github.com/bu-cds-omds/dx704-examples\n",
        "\n",
        "Any calculations demonstrated in code examples or videos may be found in these notebooks, and you are allowed to copy this example code in your homework answers."
      ]
    },
    {
      "cell_type": "markdown",
      "metadata": {
        "id": "pv3PslO0V5Lm"
      },
      "source": [
        "## Part 1: Collect Data\n",
        "\n",
        "Collect historical monthly price data for the last 24 months covering 6 different stocks.\n",
        "The data should cover 24 consecutive months including the last month that ended before this week's material was released on Blackboard.\n",
        "To be clear, if a month ends between the Blackboard release and submitting your project, you do not need to add that month.\n",
        "\n",
        "The six different stocks must include AAPL, SPY and TSLA.\n",
        "At least one of the remaining 3 tickers must start with the same letter as your last name (e.g. professor Considine could use COIN).\n",
        "This is to encourage diversity in what stocks you analyze; if you discuss this project with classmates, please make sure that you pick different tickers to differentiate your work.\n",
        "Do not pick stocks with fewer than 24 consecutive months of price data."
      ]
    },
    {
      "cell_type": "code",
      "execution_count": 45,
      "metadata": {},
      "outputs": [],
      "source": [
        "# Load libraries\n",
        "import pandas as pd\n",
        "import yfinance as yf\n",
        "import numpy as np\n",
        "import cvxpy as cp\n",
        "import matplotlib.pyplot as plt\n",
        "\n",
        "# Turn off scientific notation for pandas and numpy\n",
        "pd.options.display.float_format = \"{:.6f}\".format\n",
        "np.set_printoptions(suppress=True, formatter={\"float_kind\": \"{:.6f}\".format})"
      ]
    },
    {
      "cell_type": "code",
      "execution_count": 46,
      "metadata": {
        "id": "6pL-ppubxfvC"
      },
      "outputs": [],
      "source": [
        "# YOUR CHANGES HERE\n",
        "# Specify stocks\n",
        "tickers = [\"AAPL\", \"SPY\", \"TSLA\", \"PEP\", \"PYPL\", \"PARA\"]\n",
        "\n",
        "# Specify monthd\n",
        "start_month = \"2023-09-01\"  \n",
        "end_month_exclusive = \"2025-09-01\" \n",
        "target_months = pd.period_range(\"2023-09\", \"2025-08\", freq=\"M\")  \n"
      ]
    },
    {
      "cell_type": "code",
      "execution_count": 47,
      "metadata": {},
      "outputs": [],
      "source": [
        "# Let's dowload daily data \n",
        "raw = yf.download(\n",
        "    tickers=tickers,\n",
        "    start=start_month,\n",
        "    end=end_month_exclusive,\n",
        "    auto_adjust=False,            \n",
        "    progress=False,\n",
        "    group_by=\"column\",           \n",
        ")"
      ]
    },
    {
      "cell_type": "code",
      "execution_count": 48,
      "metadata": {},
      "outputs": [
        {
          "data": {
            "text/html": [
              "<div>\n",
              "<style scoped>\n",
              "    .dataframe tbody tr th:only-of-type {\n",
              "        vertical-align: middle;\n",
              "    }\n",
              "\n",
              "    .dataframe tbody tr th {\n",
              "        vertical-align: top;\n",
              "    }\n",
              "\n",
              "    .dataframe thead tr th {\n",
              "        text-align: left;\n",
              "    }\n",
              "\n",
              "    .dataframe thead tr:last-of-type th {\n",
              "        text-align: right;\n",
              "    }\n",
              "</style>\n",
              "<table border=\"1\" class=\"dataframe\">\n",
              "  <thead>\n",
              "    <tr>\n",
              "      <th>Price</th>\n",
              "      <th colspan=\"6\" halign=\"left\">Adj Close</th>\n",
              "      <th colspan=\"4\" halign=\"left\">Close</th>\n",
              "      <th>...</th>\n",
              "      <th colspan=\"4\" halign=\"left\">Open</th>\n",
              "      <th colspan=\"6\" halign=\"left\">Volume</th>\n",
              "    </tr>\n",
              "    <tr>\n",
              "      <th>Ticker</th>\n",
              "      <th>AAPL</th>\n",
              "      <th>PARA</th>\n",
              "      <th>PEP</th>\n",
              "      <th>PYPL</th>\n",
              "      <th>SPY</th>\n",
              "      <th>TSLA</th>\n",
              "      <th>AAPL</th>\n",
              "      <th>PARA</th>\n",
              "      <th>PEP</th>\n",
              "      <th>PYPL</th>\n",
              "      <th>...</th>\n",
              "      <th>PEP</th>\n",
              "      <th>PYPL</th>\n",
              "      <th>SPY</th>\n",
              "      <th>TSLA</th>\n",
              "      <th>AAPL</th>\n",
              "      <th>PARA</th>\n",
              "      <th>PEP</th>\n",
              "      <th>PYPL</th>\n",
              "      <th>SPY</th>\n",
              "      <th>TSLA</th>\n",
              "    </tr>\n",
              "    <tr>\n",
              "      <th>Date</th>\n",
              "      <th></th>\n",
              "      <th></th>\n",
              "      <th></th>\n",
              "      <th></th>\n",
              "      <th></th>\n",
              "      <th></th>\n",
              "      <th></th>\n",
              "      <th></th>\n",
              "      <th></th>\n",
              "      <th></th>\n",
              "      <th></th>\n",
              "      <th></th>\n",
              "      <th></th>\n",
              "      <th></th>\n",
              "      <th></th>\n",
              "      <th></th>\n",
              "      <th></th>\n",
              "      <th></th>\n",
              "      <th></th>\n",
              "      <th></th>\n",
              "      <th></th>\n",
              "    </tr>\n",
              "  </thead>\n",
              "  <tbody>\n",
              "    <tr>\n",
              "      <th>2023-09-01</th>\n",
              "      <td>187.622253</td>\n",
              "      <td>13.195582</td>\n",
              "      <td>163.701599</td>\n",
              "      <td>63.570000</td>\n",
              "      <td>439.492126</td>\n",
              "      <td>245.009995</td>\n",
              "      <td>189.460007</td>\n",
              "      <td>13.650000</td>\n",
              "      <td>175.320007</td>\n",
              "      <td>63.570000</td>\n",
              "      <td>...</td>\n",
              "      <td>178.729996</td>\n",
              "      <td>63.130001</td>\n",
              "      <td>453.170013</td>\n",
              "      <td>257.260010</td>\n",
              "      <td>45766500</td>\n",
              "      <td>32745292</td>\n",
              "      <td>4801400</td>\n",
              "      <td>11715200</td>\n",
              "      <td>58944100</td>\n",
              "      <td>132541600</td>\n",
              "    </tr>\n",
              "    <tr>\n",
              "      <th>2023-09-05</th>\n",
              "      <td>187.859924</td>\n",
              "      <td>13.195582</td>\n",
              "      <td>162.618500</td>\n",
              "      <td>63.740002</td>\n",
              "      <td>437.592682</td>\n",
              "      <td>256.489990</td>\n",
              "      <td>189.699997</td>\n",
              "      <td>13.650000</td>\n",
              "      <td>174.160004</td>\n",
              "      <td>63.740002</td>\n",
              "      <td>...</td>\n",
              "      <td>175.270004</td>\n",
              "      <td>63.380001</td>\n",
              "      <td>450.730011</td>\n",
              "      <td>245.000000</td>\n",
              "      <td>45280000</td>\n",
              "      <td>12582628</td>\n",
              "      <td>5081800</td>\n",
              "      <td>12739100</td>\n",
              "      <td>55166200</td>\n",
              "      <td>129469600</td>\n",
              "    </tr>\n",
              "    <tr>\n",
              "      <th>2023-09-06</th>\n",
              "      <td>181.135803</td>\n",
              "      <td>12.953907</td>\n",
              "      <td>163.150711</td>\n",
              "      <td>62.799999</td>\n",
              "      <td>434.651001</td>\n",
              "      <td>251.919998</td>\n",
              "      <td>182.910004</td>\n",
              "      <td>13.400000</td>\n",
              "      <td>174.729996</td>\n",
              "      <td>62.799999</td>\n",
              "      <td>...</td>\n",
              "      <td>174.919998</td>\n",
              "      <td>63.119999</td>\n",
              "      <td>448.399994</td>\n",
              "      <td>255.139999</td>\n",
              "      <td>81755800</td>\n",
              "      <td>15497299</td>\n",
              "      <td>5933800</td>\n",
              "      <td>13621300</td>\n",
              "      <td>70758500</td>\n",
              "      <td>116959800</td>\n",
              "    </tr>\n",
              "    <tr>\n",
              "      <th>2023-09-07</th>\n",
              "      <td>175.837692</td>\n",
              "      <td>12.586558</td>\n",
              "      <td>164.710052</td>\n",
              "      <td>61.650002</td>\n",
              "      <td>433.316528</td>\n",
              "      <td>251.490005</td>\n",
              "      <td>177.559998</td>\n",
              "      <td>13.020000</td>\n",
              "      <td>176.399994</td>\n",
              "      <td>61.650002</td>\n",
              "      <td>...</td>\n",
              "      <td>175.850006</td>\n",
              "      <td>62.000000</td>\n",
              "      <td>443.109985</td>\n",
              "      <td>245.070007</td>\n",
              "      <td>112488800</td>\n",
              "      <td>20686648</td>\n",
              "      <td>4934300</td>\n",
              "      <td>12712700</td>\n",
              "      <td>70355400</td>\n",
              "      <td>115312900</td>\n",
              "    </tr>\n",
              "    <tr>\n",
              "      <th>2023-09-08</th>\n",
              "      <td>176.451645</td>\n",
              "      <td>13.205253</td>\n",
              "      <td>164.588654</td>\n",
              "      <td>60.980000</td>\n",
              "      <td>433.969116</td>\n",
              "      <td>248.500000</td>\n",
              "      <td>178.179993</td>\n",
              "      <td>13.660000</td>\n",
              "      <td>176.270004</td>\n",
              "      <td>60.980000</td>\n",
              "      <td>...</td>\n",
              "      <td>175.809998</td>\n",
              "      <td>61.580002</td>\n",
              "      <td>444.899994</td>\n",
              "      <td>251.220001</td>\n",
              "      <td>65551300</td>\n",
              "      <td>13785068</td>\n",
              "      <td>2995000</td>\n",
              "      <td>15367400</td>\n",
              "      <td>61659700</td>\n",
              "      <td>118367700</td>\n",
              "    </tr>\n",
              "  </tbody>\n",
              "</table>\n",
              "<p>5 rows × 36 columns</p>\n",
              "</div>"
            ],
            "text/plain": [
              "Price       Adj Close                                                       \\\n",
              "Ticker           AAPL      PARA        PEP      PYPL        SPY       TSLA   \n",
              "Date                                                                         \n",
              "2023-09-01 187.622253 13.195582 163.701599 63.570000 439.492126 245.009995   \n",
              "2023-09-05 187.859924 13.195582 162.618500 63.740002 437.592682 256.489990   \n",
              "2023-09-06 181.135803 12.953907 163.150711 62.799999 434.651001 251.919998   \n",
              "2023-09-07 175.837692 12.586558 164.710052 61.650002 433.316528 251.490005   \n",
              "2023-09-08 176.451645 13.205253 164.588654 60.980000 433.969116 248.500000   \n",
              "\n",
              "Price           Close                                 ...       Open  \\\n",
              "Ticker           AAPL      PARA        PEP      PYPL  ...        PEP   \n",
              "Date                                                  ...              \n",
              "2023-09-01 189.460007 13.650000 175.320007 63.570000  ... 178.729996   \n",
              "2023-09-05 189.699997 13.650000 174.160004 63.740002  ... 175.270004   \n",
              "2023-09-06 182.910004 13.400000 174.729996 62.799999  ... 174.919998   \n",
              "2023-09-07 177.559998 13.020000 176.399994 61.650002  ... 175.850006   \n",
              "2023-09-08 178.179993 13.660000 176.270004 60.980000  ... 175.809998   \n",
              "\n",
              "Price                                          Volume                     \\\n",
              "Ticker          PYPL        SPY       TSLA       AAPL      PARA      PEP   \n",
              "Date                                                                       \n",
              "2023-09-01 63.130001 453.170013 257.260010   45766500  32745292  4801400   \n",
              "2023-09-05 63.380001 450.730011 245.000000   45280000  12582628  5081800   \n",
              "2023-09-06 63.119999 448.399994 255.139999   81755800  15497299  5933800   \n",
              "2023-09-07 62.000000 443.109985 245.070007  112488800  20686648  4934300   \n",
              "2023-09-08 61.580002 444.899994 251.220001   65551300  13785068  2995000   \n",
              "\n",
              "Price                                      \n",
              "Ticker          PYPL       SPY       TSLA  \n",
              "Date                                       \n",
              "2023-09-01  11715200  58944100  132541600  \n",
              "2023-09-05  12739100  55166200  129469600  \n",
              "2023-09-06  13621300  70758500  116959800  \n",
              "2023-09-07  12712700  70355400  115312900  \n",
              "2023-09-08  15367400  61659700  118367700  \n",
              "\n",
              "[5 rows x 36 columns]"
            ]
          },
          "execution_count": 48,
          "metadata": {},
          "output_type": "execute_result"
        }
      ],
      "source": [
        "# Take a look\n",
        "raw.head()"
      ]
    },
    {
      "cell_type": "code",
      "execution_count": 49,
      "metadata": {},
      "outputs": [
        {
          "data": {
            "text/plain": [
              "(500, 36)"
            ]
          },
          "execution_count": 49,
          "metadata": {},
          "output_type": "execute_result"
        }
      ],
      "source": [
        "raw.shape"
      ]
    },
    {
      "cell_type": "code",
      "execution_count": 50,
      "metadata": {},
      "outputs": [],
      "source": [
        "# Take only the adjusted price \n",
        "adj_close = raw[\"Adj Close\"]\n"
      ]
    },
    {
      "cell_type": "code",
      "execution_count": 51,
      "metadata": {},
      "outputs": [
        {
          "data": {
            "text/html": [
              "<div>\n",
              "<style scoped>\n",
              "    .dataframe tbody tr th:only-of-type {\n",
              "        vertical-align: middle;\n",
              "    }\n",
              "\n",
              "    .dataframe tbody tr th {\n",
              "        vertical-align: top;\n",
              "    }\n",
              "\n",
              "    .dataframe thead th {\n",
              "        text-align: right;\n",
              "    }\n",
              "</style>\n",
              "<table border=\"1\" class=\"dataframe\">\n",
              "  <thead>\n",
              "    <tr style=\"text-align: right;\">\n",
              "      <th>Ticker</th>\n",
              "      <th>AAPL</th>\n",
              "      <th>PARA</th>\n",
              "      <th>PEP</th>\n",
              "      <th>PYPL</th>\n",
              "      <th>SPY</th>\n",
              "      <th>TSLA</th>\n",
              "    </tr>\n",
              "    <tr>\n",
              "      <th>Date</th>\n",
              "      <th></th>\n",
              "      <th></th>\n",
              "      <th></th>\n",
              "      <th></th>\n",
              "      <th></th>\n",
              "      <th></th>\n",
              "    </tr>\n",
              "  </thead>\n",
              "  <tbody>\n",
              "    <tr>\n",
              "      <th>2023-09-01</th>\n",
              "      <td>187.622253</td>\n",
              "      <td>13.195582</td>\n",
              "      <td>163.701599</td>\n",
              "      <td>63.570000</td>\n",
              "      <td>439.492126</td>\n",
              "      <td>245.009995</td>\n",
              "    </tr>\n",
              "    <tr>\n",
              "      <th>2023-09-05</th>\n",
              "      <td>187.859924</td>\n",
              "      <td>13.195582</td>\n",
              "      <td>162.618500</td>\n",
              "      <td>63.740002</td>\n",
              "      <td>437.592682</td>\n",
              "      <td>256.489990</td>\n",
              "    </tr>\n",
              "    <tr>\n",
              "      <th>2023-09-06</th>\n",
              "      <td>181.135803</td>\n",
              "      <td>12.953907</td>\n",
              "      <td>163.150711</td>\n",
              "      <td>62.799999</td>\n",
              "      <td>434.651001</td>\n",
              "      <td>251.919998</td>\n",
              "    </tr>\n",
              "    <tr>\n",
              "      <th>2023-09-07</th>\n",
              "      <td>175.837692</td>\n",
              "      <td>12.586558</td>\n",
              "      <td>164.710052</td>\n",
              "      <td>61.650002</td>\n",
              "      <td>433.316528</td>\n",
              "      <td>251.490005</td>\n",
              "    </tr>\n",
              "    <tr>\n",
              "      <th>2023-09-08</th>\n",
              "      <td>176.451645</td>\n",
              "      <td>13.205253</td>\n",
              "      <td>164.588654</td>\n",
              "      <td>60.980000</td>\n",
              "      <td>433.969116</td>\n",
              "      <td>248.500000</td>\n",
              "    </tr>\n",
              "  </tbody>\n",
              "</table>\n",
              "</div>"
            ],
            "text/plain": [
              "Ticker           AAPL      PARA        PEP      PYPL        SPY       TSLA\n",
              "Date                                                                      \n",
              "2023-09-01 187.622253 13.195582 163.701599 63.570000 439.492126 245.009995\n",
              "2023-09-05 187.859924 13.195582 162.618500 63.740002 437.592682 256.489990\n",
              "2023-09-06 181.135803 12.953907 163.150711 62.799999 434.651001 251.919998\n",
              "2023-09-07 175.837692 12.586558 164.710052 61.650002 433.316528 251.490005\n",
              "2023-09-08 176.451645 13.205253 164.588654 60.980000 433.969116 248.500000"
            ]
          },
          "execution_count": 51,
          "metadata": {},
          "output_type": "execute_result"
        }
      ],
      "source": [
        "adj_close.head()"
      ]
    },
    {
      "cell_type": "code",
      "execution_count": 52,
      "metadata": {},
      "outputs": [
        {
          "data": {
            "text/plain": [
              "(500, 6)"
            ]
          },
          "execution_count": 52,
          "metadata": {},
          "output_type": "execute_result"
        }
      ],
      "source": [
        "adj_close.shape"
      ]
    },
    {
      "cell_type": "code",
      "execution_count": 53,
      "metadata": {},
      "outputs": [],
      "source": [
        "# Resample to month-end prices (last trading day each month)\n",
        "monthly_prices = adj_close.resample(\"ME\").last()"
      ]
    },
    {
      "cell_type": "code",
      "execution_count": 54,
      "metadata": {},
      "outputs": [
        {
          "data": {
            "text/html": [
              "<div>\n",
              "<style scoped>\n",
              "    .dataframe tbody tr th:only-of-type {\n",
              "        vertical-align: middle;\n",
              "    }\n",
              "\n",
              "    .dataframe tbody tr th {\n",
              "        vertical-align: top;\n",
              "    }\n",
              "\n",
              "    .dataframe thead th {\n",
              "        text-align: right;\n",
              "    }\n",
              "</style>\n",
              "<table border=\"1\" class=\"dataframe\">\n",
              "  <thead>\n",
              "    <tr style=\"text-align: right;\">\n",
              "      <th>Ticker</th>\n",
              "      <th>AAPL</th>\n",
              "      <th>PARA</th>\n",
              "      <th>PEP</th>\n",
              "      <th>PYPL</th>\n",
              "      <th>SPY</th>\n",
              "      <th>TSLA</th>\n",
              "    </tr>\n",
              "    <tr>\n",
              "      <th>Date</th>\n",
              "      <th></th>\n",
              "      <th></th>\n",
              "      <th></th>\n",
              "      <th></th>\n",
              "      <th></th>\n",
              "      <th></th>\n",
              "    </tr>\n",
              "  </thead>\n",
              "  <tbody>\n",
              "    <tr>\n",
              "      <th>2023-09-30</th>\n",
              "      <td>169.549286</td>\n",
              "      <td>12.517363</td>\n",
              "      <td>158.211288</td>\n",
              "      <td>58.459999</td>\n",
              "      <td>417.865631</td>\n",
              "      <td>250.220001</td>\n",
              "    </tr>\n",
              "    <tr>\n",
              "      <th>2023-10-31</th>\n",
              "      <td>169.113571</td>\n",
              "      <td>10.557281</td>\n",
              "      <td>152.459503</td>\n",
              "      <td>51.799999</td>\n",
              "      <td>408.794373</td>\n",
              "      <td>200.839996</td>\n",
              "    </tr>\n",
              "    <tr>\n",
              "      <th>2023-11-30</th>\n",
              "      <td>188.355316</td>\n",
              "      <td>13.943759</td>\n",
              "      <td>158.335693</td>\n",
              "      <td>57.610001</td>\n",
              "      <td>446.135223</td>\n",
              "      <td>240.080002</td>\n",
              "    </tr>\n",
              "    <tr>\n",
              "      <th>2023-12-31</th>\n",
              "      <td>190.913651</td>\n",
              "      <td>14.397066</td>\n",
              "      <td>159.794022</td>\n",
              "      <td>61.410000</td>\n",
              "      <td>466.503693</td>\n",
              "      <td>248.479996</td>\n",
              "    </tr>\n",
              "    <tr>\n",
              "      <th>2024-01-31</th>\n",
              "      <td>182.851898</td>\n",
              "      <td>14.202379</td>\n",
              "      <td>158.561523</td>\n",
              "      <td>61.349998</td>\n",
              "      <td>473.933411</td>\n",
              "      <td>187.289993</td>\n",
              "    </tr>\n",
              "  </tbody>\n",
              "</table>\n",
              "</div>"
            ],
            "text/plain": [
              "Ticker           AAPL      PARA        PEP      PYPL        SPY       TSLA\n",
              "Date                                                                      \n",
              "2023-09-30 169.549286 12.517363 158.211288 58.459999 417.865631 250.220001\n",
              "2023-10-31 169.113571 10.557281 152.459503 51.799999 408.794373 200.839996\n",
              "2023-11-30 188.355316 13.943759 158.335693 57.610001 446.135223 240.080002\n",
              "2023-12-31 190.913651 14.397066 159.794022 61.410000 466.503693 248.479996\n",
              "2024-01-31 182.851898 14.202379 158.561523 61.349998 473.933411 187.289993"
            ]
          },
          "execution_count": 54,
          "metadata": {},
          "output_type": "execute_result"
        }
      ],
      "source": [
        "monthly_prices.head()"
      ]
    },
    {
      "cell_type": "code",
      "execution_count": 55,
      "metadata": {},
      "outputs": [
        {
          "data": {
            "text/plain": [
              "(24, 6)"
            ]
          },
          "execution_count": 55,
          "metadata": {},
          "output_type": "execute_result"
        }
      ],
      "source": [
        "monthly_prices.shape"
      ]
    },
    {
      "cell_type": "code",
      "execution_count": 56,
      "metadata": {},
      "outputs": [
        {
          "name": "stdout",
          "output_type": "stream",
          "text": [
            "Ticker\n",
            "AAPL    False\n",
            "PARA    False\n",
            "PEP     False\n",
            "PYPL    False\n",
            "SPY     False\n",
            "TSLA    False\n",
            "dtype: bool\n"
          ]
        }
      ],
      "source": [
        "# Check if all have 24 months of data\n",
        "print(monthly_prices.isna().any())"
      ]
    },
    {
      "cell_type": "code",
      "execution_count": 57,
      "metadata": {},
      "outputs": [
        {
          "data": {
            "text/html": [
              "<div>\n",
              "<style scoped>\n",
              "    .dataframe tbody tr th:only-of-type {\n",
              "        vertical-align: middle;\n",
              "    }\n",
              "\n",
              "    .dataframe tbody tr th {\n",
              "        vertical-align: top;\n",
              "    }\n",
              "\n",
              "    .dataframe thead th {\n",
              "        text-align: right;\n",
              "    }\n",
              "</style>\n",
              "<table border=\"1\" class=\"dataframe\">\n",
              "  <thead>\n",
              "    <tr style=\"text-align: right;\">\n",
              "      <th>Ticker</th>\n",
              "      <th>AAPL</th>\n",
              "      <th>PARA</th>\n",
              "      <th>PEP</th>\n",
              "      <th>PYPL</th>\n",
              "      <th>SPY</th>\n",
              "      <th>TSLA</th>\n",
              "    </tr>\n",
              "    <tr>\n",
              "      <th>Date</th>\n",
              "      <th></th>\n",
              "      <th></th>\n",
              "      <th></th>\n",
              "      <th></th>\n",
              "      <th></th>\n",
              "      <th></th>\n",
              "    </tr>\n",
              "  </thead>\n",
              "  <tbody>\n",
              "    <tr>\n",
              "      <th>2023-09-30</th>\n",
              "      <td>169.549286</td>\n",
              "      <td>12.517363</td>\n",
              "      <td>158.211288</td>\n",
              "      <td>58.459999</td>\n",
              "      <td>417.865631</td>\n",
              "      <td>250.220001</td>\n",
              "    </tr>\n",
              "    <tr>\n",
              "      <th>2023-10-31</th>\n",
              "      <td>169.113571</td>\n",
              "      <td>10.557281</td>\n",
              "      <td>152.459503</td>\n",
              "      <td>51.799999</td>\n",
              "      <td>408.794373</td>\n",
              "      <td>200.839996</td>\n",
              "    </tr>\n",
              "    <tr>\n",
              "      <th>2023-11-30</th>\n",
              "      <td>188.355316</td>\n",
              "      <td>13.943759</td>\n",
              "      <td>158.335693</td>\n",
              "      <td>57.610001</td>\n",
              "      <td>446.135223</td>\n",
              "      <td>240.080002</td>\n",
              "    </tr>\n",
              "    <tr>\n",
              "      <th>2023-12-31</th>\n",
              "      <td>190.913651</td>\n",
              "      <td>14.397066</td>\n",
              "      <td>159.794022</td>\n",
              "      <td>61.410000</td>\n",
              "      <td>466.503693</td>\n",
              "      <td>248.479996</td>\n",
              "    </tr>\n",
              "    <tr>\n",
              "      <th>2024-01-31</th>\n",
              "      <td>182.851898</td>\n",
              "      <td>14.202379</td>\n",
              "      <td>158.561523</td>\n",
              "      <td>61.349998</td>\n",
              "      <td>473.933411</td>\n",
              "      <td>187.289993</td>\n",
              "    </tr>\n",
              "  </tbody>\n",
              "</table>\n",
              "</div>"
            ],
            "text/plain": [
              "Ticker           AAPL      PARA        PEP      PYPL        SPY       TSLA\n",
              "Date                                                                      \n",
              "2023-09-30 169.549286 12.517363 158.211288 58.459999 417.865631 250.220001\n",
              "2023-10-31 169.113571 10.557281 152.459503 51.799999 408.794373 200.839996\n",
              "2023-11-30 188.355316 13.943759 158.335693 57.610001 446.135223 240.080002\n",
              "2023-12-31 190.913651 14.397066 159.794022 61.410000 466.503693 248.479996\n",
              "2024-01-31 182.851898 14.202379 158.561523 61.349998 473.933411 187.289993"
            ]
          },
          "execution_count": 57,
          "metadata": {},
          "output_type": "execute_result"
        }
      ],
      "source": [
        "monthly_prices.head()"
      ]
    },
    {
      "cell_type": "markdown",
      "metadata": {
        "id": "1uH9oDQ1rEQT"
      },
      "source": [
        "Save the data as a TSV file named \"historical_prices.tsv\" and include a header row with the column names \"date\" and the 6 stock ticker symbols.\n",
        "The date should be the last trading day of the month, so it may not be the last day of the month.\n",
        "For example, the last trading day of November 2024 was 2024-11-29.\n",
        "The remaining columns should contain the adjusted closing prices of the corresponding stock tickers on that day.\n"
      ]
    },
    {
      "cell_type": "code",
      "execution_count": 58,
      "metadata": {
        "id": "mHbwKHOhtQ3E"
      },
      "outputs": [],
      "source": [
        "# YOUR CHANGES HERE\n",
        "\n",
        "# Fix index\n",
        "# Reset index so date is a column\n",
        "monthly_prices = monthly_prices.reset_index()\n",
        "monthly_prices.rename(columns={\"Date\": \"date\"}, inplace=True)\n",
        "\n",
        "# Remove the column index name (\"Ticker\")\n",
        "monthly_prices.columns.name = None\n",
        "\n",
        "# Save to TSV, keeping 'date' as a regular column\n",
        "monthly_prices.to_csv(\"historical_prices.tsv\", sep=\"\\t\", index=False, float_format=\"%.6f\")\n"
      ]
    },
    {
      "cell_type": "code",
      "execution_count": 59,
      "metadata": {},
      "outputs": [
        {
          "data": {
            "text/html": [
              "<div>\n",
              "<style scoped>\n",
              "    .dataframe tbody tr th:only-of-type {\n",
              "        vertical-align: middle;\n",
              "    }\n",
              "\n",
              "    .dataframe tbody tr th {\n",
              "        vertical-align: top;\n",
              "    }\n",
              "\n",
              "    .dataframe thead th {\n",
              "        text-align: right;\n",
              "    }\n",
              "</style>\n",
              "<table border=\"1\" class=\"dataframe\">\n",
              "  <thead>\n",
              "    <tr style=\"text-align: right;\">\n",
              "      <th></th>\n",
              "      <th>date</th>\n",
              "      <th>AAPL</th>\n",
              "      <th>PARA</th>\n",
              "      <th>PEP</th>\n",
              "      <th>PYPL</th>\n",
              "      <th>SPY</th>\n",
              "      <th>TSLA</th>\n",
              "    </tr>\n",
              "  </thead>\n",
              "  <tbody>\n",
              "    <tr>\n",
              "      <th>0</th>\n",
              "      <td>2023-09-30</td>\n",
              "      <td>169.549286</td>\n",
              "      <td>12.517363</td>\n",
              "      <td>158.211288</td>\n",
              "      <td>58.459999</td>\n",
              "      <td>417.865631</td>\n",
              "      <td>250.220001</td>\n",
              "    </tr>\n",
              "    <tr>\n",
              "      <th>1</th>\n",
              "      <td>2023-10-31</td>\n",
              "      <td>169.113571</td>\n",
              "      <td>10.557281</td>\n",
              "      <td>152.459503</td>\n",
              "      <td>51.799999</td>\n",
              "      <td>408.794373</td>\n",
              "      <td>200.839996</td>\n",
              "    </tr>\n",
              "    <tr>\n",
              "      <th>2</th>\n",
              "      <td>2023-11-30</td>\n",
              "      <td>188.355316</td>\n",
              "      <td>13.943759</td>\n",
              "      <td>158.335693</td>\n",
              "      <td>57.610001</td>\n",
              "      <td>446.135223</td>\n",
              "      <td>240.080002</td>\n",
              "    </tr>\n",
              "    <tr>\n",
              "      <th>3</th>\n",
              "      <td>2023-12-31</td>\n",
              "      <td>190.913651</td>\n",
              "      <td>14.397066</td>\n",
              "      <td>159.794022</td>\n",
              "      <td>61.410000</td>\n",
              "      <td>466.503693</td>\n",
              "      <td>248.479996</td>\n",
              "    </tr>\n",
              "    <tr>\n",
              "      <th>4</th>\n",
              "      <td>2024-01-31</td>\n",
              "      <td>182.851898</td>\n",
              "      <td>14.202379</td>\n",
              "      <td>158.561523</td>\n",
              "      <td>61.349998</td>\n",
              "      <td>473.933411</td>\n",
              "      <td>187.289993</td>\n",
              "    </tr>\n",
              "  </tbody>\n",
              "</table>\n",
              "</div>"
            ],
            "text/plain": [
              "        date       AAPL      PARA        PEP      PYPL        SPY       TSLA\n",
              "0 2023-09-30 169.549286 12.517363 158.211288 58.459999 417.865631 250.220001\n",
              "1 2023-10-31 169.113571 10.557281 152.459503 51.799999 408.794373 200.839996\n",
              "2 2023-11-30 188.355316 13.943759 158.335693 57.610001 446.135223 240.080002\n",
              "3 2023-12-31 190.913651 14.397066 159.794022 61.410000 466.503693 248.479996\n",
              "4 2024-01-31 182.851898 14.202379 158.561523 61.349998 473.933411 187.289993"
            ]
          },
          "execution_count": 59,
          "metadata": {},
          "output_type": "execute_result"
        }
      ],
      "source": [
        "monthly_prices.head()"
      ]
    },
    {
      "cell_type": "markdown",
      "metadata": {
        "id": "2hp0yuXPtT9V"
      },
      "source": [
        "Submit \"historical_prices.tsv\" in Gradescope."
      ]
    },
    {
      "cell_type": "markdown",
      "metadata": {
        "id": "7XdNVWWirUd5"
      },
      "source": [
        "## Part 2: Calculate Historical Asset Returns\n",
        "\n",
        "Calculate the historical asset returns based on the price data that you previously collected."
      ]
    },
    {
      "cell_type": "code",
      "execution_count": 60,
      "metadata": {},
      "outputs": [
        {
          "data": {
            "text/html": [
              "<div>\n",
              "<style scoped>\n",
              "    .dataframe tbody tr th:only-of-type {\n",
              "        vertical-align: middle;\n",
              "    }\n",
              "\n",
              "    .dataframe tbody tr th {\n",
              "        vertical-align: top;\n",
              "    }\n",
              "\n",
              "    .dataframe thead th {\n",
              "        text-align: right;\n",
              "    }\n",
              "</style>\n",
              "<table border=\"1\" class=\"dataframe\">\n",
              "  <thead>\n",
              "    <tr style=\"text-align: right;\">\n",
              "      <th></th>\n",
              "      <th>AAPL</th>\n",
              "      <th>SPY</th>\n",
              "      <th>TSLA</th>\n",
              "      <th>PEP</th>\n",
              "      <th>PYPL</th>\n",
              "      <th>PARA</th>\n",
              "    </tr>\n",
              "    <tr>\n",
              "      <th>Date</th>\n",
              "      <th></th>\n",
              "      <th></th>\n",
              "      <th></th>\n",
              "      <th></th>\n",
              "      <th></th>\n",
              "      <th></th>\n",
              "    </tr>\n",
              "  </thead>\n",
              "  <tbody>\n",
              "    <tr>\n",
              "      <th>2023-09</th>\n",
              "      <td>169.549271</td>\n",
              "      <td>417.865692</td>\n",
              "      <td>250.220001</td>\n",
              "      <td>158.211273</td>\n",
              "      <td>58.459999</td>\n",
              "      <td>12.517363</td>\n",
              "    </tr>\n",
              "    <tr>\n",
              "      <th>2023-10</th>\n",
              "      <td>169.113525</td>\n",
              "      <td>408.794342</td>\n",
              "      <td>200.839996</td>\n",
              "      <td>152.459503</td>\n",
              "      <td>51.799999</td>\n",
              "      <td>10.557280</td>\n",
              "    </tr>\n",
              "    <tr>\n",
              "      <th>2023-11</th>\n",
              "      <td>188.355316</td>\n",
              "      <td>446.135162</td>\n",
              "      <td>240.080002</td>\n",
              "      <td>158.335709</td>\n",
              "      <td>57.610001</td>\n",
              "      <td>13.943760</td>\n",
              "    </tr>\n",
              "    <tr>\n",
              "      <th>2023-12</th>\n",
              "      <td>190.913651</td>\n",
              "      <td>466.503662</td>\n",
              "      <td>248.479996</td>\n",
              "      <td>159.794022</td>\n",
              "      <td>61.410000</td>\n",
              "      <td>14.397066</td>\n",
              "    </tr>\n",
              "    <tr>\n",
              "      <th>2024-01</th>\n",
              "      <td>182.851913</td>\n",
              "      <td>473.933411</td>\n",
              "      <td>187.289993</td>\n",
              "      <td>158.561508</td>\n",
              "      <td>61.349998</td>\n",
              "      <td>14.202380</td>\n",
              "    </tr>\n",
              "    <tr>\n",
              "      <th>2024-02</th>\n",
              "      <td>179.461273</td>\n",
              "      <td>498.666534</td>\n",
              "      <td>201.880005</td>\n",
              "      <td>156.747314</td>\n",
              "      <td>60.340000</td>\n",
              "      <td>10.746694</td>\n",
              "    </tr>\n",
              "    <tr>\n",
              "      <th>2024-03</th>\n",
              "      <td>170.257355</td>\n",
              "      <td>514.973877</td>\n",
              "      <td>175.789993</td>\n",
              "      <td>165.914764</td>\n",
              "      <td>66.989998</td>\n",
              "      <td>11.506557</td>\n",
              "    </tr>\n",
              "    <tr>\n",
              "      <th>2024-04</th>\n",
              "      <td>169.115555</td>\n",
              "      <td>494.210297</td>\n",
              "      <td>183.279999</td>\n",
              "      <td>166.768005</td>\n",
              "      <td>67.919998</td>\n",
              "      <td>11.135063</td>\n",
              "    </tr>\n",
              "    <tr>\n",
              "      <th>2024-05</th>\n",
              "      <td>191.138153</td>\n",
              "      <td>519.207336</td>\n",
              "      <td>178.080002</td>\n",
              "      <td>163.914413</td>\n",
              "      <td>62.990002</td>\n",
              "      <td>11.643424</td>\n",
              "    </tr>\n",
              "    <tr>\n",
              "      <th>2024-06</th>\n",
              "      <td>209.401917</td>\n",
              "      <td>537.525024</td>\n",
              "      <td>197.880005</td>\n",
              "      <td>157.591507</td>\n",
              "      <td>58.029999</td>\n",
              "      <td>10.207630</td>\n",
              "    </tr>\n",
              "    <tr>\n",
              "      <th>2024-07</th>\n",
              "      <td>220.795670</td>\n",
              "      <td>544.033997</td>\n",
              "      <td>232.070007</td>\n",
              "      <td>164.987152</td>\n",
              "      <td>65.779999</td>\n",
              "      <td>11.219551</td>\n",
              "    </tr>\n",
              "    <tr>\n",
              "      <th>2024-08</th>\n",
              "      <td>227.939163</td>\n",
              "      <td>556.745605</td>\n",
              "      <td>214.110001</td>\n",
              "      <td>165.187820</td>\n",
              "      <td>72.430000</td>\n",
              "      <td>10.286226</td>\n",
              "    </tr>\n",
              "    <tr>\n",
              "      <th>2024-09</th>\n",
              "      <td>231.920639</td>\n",
              "      <td>568.439880</td>\n",
              "      <td>261.630005</td>\n",
              "      <td>163.720993</td>\n",
              "      <td>78.029999</td>\n",
              "      <td>10.483183</td>\n",
              "    </tr>\n",
              "    <tr>\n",
              "      <th>2024-10</th>\n",
              "      <td>224.863480</td>\n",
              "      <td>563.367432</td>\n",
              "      <td>249.850006</td>\n",
              "      <td>159.898727</td>\n",
              "      <td>79.300003</td>\n",
              "      <td>10.799059</td>\n",
              "    </tr>\n",
              "    <tr>\n",
              "      <th>2024-11</th>\n",
              "      <td>236.490479</td>\n",
              "      <td>596.962952</td>\n",
              "      <td>345.160004</td>\n",
              "      <td>157.366608</td>\n",
              "      <td>86.769997</td>\n",
              "      <td>10.710219</td>\n",
              "    </tr>\n",
              "    <tr>\n",
              "      <th>2024-12</th>\n",
              "      <td>249.534180</td>\n",
              "      <td>582.599915</td>\n",
              "      <td>403.839996</td>\n",
              "      <td>147.647110</td>\n",
              "      <td>85.349998</td>\n",
              "      <td>10.371463</td>\n",
              "    </tr>\n",
              "    <tr>\n",
              "      <th>2025-01</th>\n",
              "      <td>235.165192</td>\n",
              "      <td>598.246460</td>\n",
              "      <td>404.600006</td>\n",
              "      <td>146.316864</td>\n",
              "      <td>88.580002</td>\n",
              "      <td>10.787908</td>\n",
              "    </tr>\n",
              "    <tr>\n",
              "      <th>2025-02</th>\n",
              "      <td>241.249481</td>\n",
              "      <td>590.651794</td>\n",
              "      <td>292.980011</td>\n",
              "      <td>149.016190</td>\n",
              "      <td>71.050003</td>\n",
              "      <td>11.263844</td>\n",
              "    </tr>\n",
              "    <tr>\n",
              "      <th>2025-03</th>\n",
              "      <td>221.587616</td>\n",
              "      <td>557.741150</td>\n",
              "      <td>259.160004</td>\n",
              "      <td>146.875854</td>\n",
              "      <td>65.250000</td>\n",
              "      <td>11.909705</td>\n",
              "    </tr>\n",
              "    <tr>\n",
              "      <th>2025-04</th>\n",
              "      <td>211.981125</td>\n",
              "      <td>552.905457</td>\n",
              "      <td>282.160004</td>\n",
              "      <td>132.809311</td>\n",
              "      <td>65.839996</td>\n",
              "      <td>11.690630</td>\n",
              "    </tr>\n",
              "    <tr>\n",
              "      <th>2025-05</th>\n",
              "      <td>200.622314</td>\n",
              "      <td>587.652771</td>\n",
              "      <td>346.459991</td>\n",
              "      <td>128.763702</td>\n",
              "      <td>70.279999</td>\n",
              "      <td>12.049117</td>\n",
              "    </tr>\n",
              "    <tr>\n",
              "      <th>2025-06</th>\n",
              "      <td>204.937408</td>\n",
              "      <td>617.849976</td>\n",
              "      <td>317.660004</td>\n",
              "      <td>130.760849</td>\n",
              "      <td>74.320000</td>\n",
              "      <td>12.900000</td>\n",
              "    </tr>\n",
              "    <tr>\n",
              "      <th>2025-07</th>\n",
              "      <td>207.334702</td>\n",
              "      <td>632.080017</td>\n",
              "      <td>308.269989</td>\n",
              "      <td>136.583893</td>\n",
              "      <td>68.760002</td>\n",
              "      <td>12.570000</td>\n",
              "    </tr>\n",
              "    <tr>\n",
              "      <th>2025-08</th>\n",
              "      <td>232.139999</td>\n",
              "      <td>645.049988</td>\n",
              "      <td>333.869995</td>\n",
              "      <td>147.209946</td>\n",
              "      <td>70.190002</td>\n",
              "      <td>14.700000</td>\n",
              "    </tr>\n",
              "    <tr>\n",
              "      <th>2025-09</th>\n",
              "      <td>239.690002</td>\n",
              "      <td>647.239990</td>\n",
              "      <td>350.839996</td>\n",
              "      <td>146.389999</td>\n",
              "      <td>68.260002</td>\n",
              "      <td>15.000000</td>\n",
              "    </tr>\n",
              "  </tbody>\n",
              "</table>\n",
              "</div>"
            ],
            "text/plain": [
              "              AAPL        SPY       TSLA        PEP      PYPL      PARA\n",
              "Date                                                                   \n",
              "2023-09 169.549271 417.865692 250.220001 158.211273 58.459999 12.517363\n",
              "2023-10 169.113525 408.794342 200.839996 152.459503 51.799999 10.557280\n",
              "2023-11 188.355316 446.135162 240.080002 158.335709 57.610001 13.943760\n",
              "2023-12 190.913651 466.503662 248.479996 159.794022 61.410000 14.397066\n",
              "2024-01 182.851913 473.933411 187.289993 158.561508 61.349998 14.202380\n",
              "2024-02 179.461273 498.666534 201.880005 156.747314 60.340000 10.746694\n",
              "2024-03 170.257355 514.973877 175.789993 165.914764 66.989998 11.506557\n",
              "2024-04 169.115555 494.210297 183.279999 166.768005 67.919998 11.135063\n",
              "2024-05 191.138153 519.207336 178.080002 163.914413 62.990002 11.643424\n",
              "2024-06 209.401917 537.525024 197.880005 157.591507 58.029999 10.207630\n",
              "2024-07 220.795670 544.033997 232.070007 164.987152 65.779999 11.219551\n",
              "2024-08 227.939163 556.745605 214.110001 165.187820 72.430000 10.286226\n",
              "2024-09 231.920639 568.439880 261.630005 163.720993 78.029999 10.483183\n",
              "2024-10 224.863480 563.367432 249.850006 159.898727 79.300003 10.799059\n",
              "2024-11 236.490479 596.962952 345.160004 157.366608 86.769997 10.710219\n",
              "2024-12 249.534180 582.599915 403.839996 147.647110 85.349998 10.371463\n",
              "2025-01 235.165192 598.246460 404.600006 146.316864 88.580002 10.787908\n",
              "2025-02 241.249481 590.651794 292.980011 149.016190 71.050003 11.263844\n",
              "2025-03 221.587616 557.741150 259.160004 146.875854 65.250000 11.909705\n",
              "2025-04 211.981125 552.905457 282.160004 132.809311 65.839996 11.690630\n",
              "2025-05 200.622314 587.652771 346.459991 128.763702 70.279999 12.049117\n",
              "2025-06 204.937408 617.849976 317.660004 130.760849 74.320000 12.900000\n",
              "2025-07 207.334702 632.080017 308.269989 136.583893 68.760002 12.570000\n",
              "2025-08 232.139999 645.049988 333.869995 147.209946 70.190002 14.700000\n",
              "2025-09 239.690002 647.239990 350.839996 146.389999 68.260002 15.000000"
            ]
          },
          "execution_count": 60,
          "metadata": {},
          "output_type": "execute_result"
        }
      ],
      "source": [
        "historical_prices = None\n",
        "\n",
        "for t in tickers:\n",
        "    ticker = yf.Ticker(t)\n",
        "    history =  ticker.history(period=\"2y\")\n",
        "\n",
        "    monthly_prices = history['Close'].resample('ME').last()\n",
        "\n",
        "    if historical_prices is None:\n",
        "        historical_prices = monthly_prices\n",
        "    else:\n",
        "        historical_prices = pd.concat([historical_prices, monthly_prices], axis=1)\n",
        "\n",
        "historical_prices.columns = tickers\n",
        "historical_prices.index = pd.to_datetime(historical_prices.index).strftime(\"%Y-%m\")\n",
        "\n",
        "historical_prices"
      ]
    },
    {
      "cell_type": "code",
      "execution_count": 61,
      "metadata": {},
      "outputs": [],
      "source": [
        "# Save to TSV, keeping 'date' as a regular column\n",
        "historical_prices.to_csv(\"historical_prices.tsv\", sep=\"\\t\", index=False, float_format=\"%.6f\")\n"
      ]
    },
    {
      "cell_type": "code",
      "execution_count": 62,
      "metadata": {},
      "outputs": [],
      "source": [
        "historical_prices = historical_prices.reset_index()\n",
        "historical_prices.rename(columns={\"Date\": \"date\"}, inplace=True)\n",
        "\n",
        "# Remove the column index name (\"Ticker\")\n",
        "historical_prices.columns.name = None\n",
        "\n",
        "# Save to TSV, keeping 'date' as a regular column\n",
        "historical_prices.to_csv(\"historical_prices.tsv\", sep=\"\\t\", index=False, float_format=\"%.6f\")\n"
      ]
    },
    {
      "cell_type": "code",
      "execution_count": 63,
      "metadata": {
        "id": "aL-kVua2xex-"
      },
      "outputs": [],
      "source": [
        "# YOUR CHANGES HERE\n",
        "\n",
        "historical_prices[\"date\"] = pd.to_datetime(historical_prices[\"date\"])\n",
        "\n",
        "# Use date as index for the computation only\n",
        "prices_idx = historical_prices.set_index(\"date\")\n",
        "\n",
        "# Compute monthly *relative* returns, then bring date back as a column\n",
        "historical_returns = prices_idx.pct_change().dropna()\n",
        "historical_returns = historical_returns.reset_index()  # 'date' becomes a column again\n",
        "\n",
        "# Save (23 rows expected)\n",
        "historical_returns.to_csv(\"historical_returns.tsv\", sep=\"\\t\", index=False, float_format=\"%.6f\")\n",
        "\n",
        "# Compute mean returns per asset (ignore the 'date' column)\n",
        "estimated_returns = historical_returns.drop(columns=[\"date\"]).mean().rename(\"return\")\n",
        "\n",
        "# (Optional) If you want a 2-col TSV: asset + estimated_return\n",
        "estimated_returns.reset_index().rename(columns={\"index\":\"asset\",\"return\":\"estimated_return\"}) \\\n",
        "                 .to_csv(\"estimated_returns.tsv\", sep=\"\\t\", index=False, float_format=\"%.6f\")"
      ]
    },
    {
      "cell_type": "code",
      "execution_count": 64,
      "metadata": {},
      "outputs": [
        {
          "data": {
            "text/plain": [
              "AAPL    0.016154\n",
              "SPY     0.018989\n",
              "TSLA    0.026376\n",
              "PEP    -0.002516\n",
              "PYPL    0.009848\n",
              "PARA    0.013115\n",
              "Name: return, dtype: float64"
            ]
          },
          "execution_count": 64,
          "metadata": {},
          "output_type": "execute_result"
        }
      ],
      "source": [
        "estimated_returns"
      ]
    },
    {
      "cell_type": "markdown",
      "metadata": {
        "id": "OjhEYCWOrIu3"
      },
      "source": [
        "Save the data as a TSV file named \"historical_returns.tsv\" and include a header row with the column names \"date\" and the 6 stock ticker symbols.\n",
        "Each row should have the date at the end of the month and the corresponding *relative* price changes.\n",
        "For example, if the previous price was \\$100 and the new price is \\$110, the return value should be 0.10.\n",
        "There should only be 23 rows of data in this file, since they are computed as the differences of 24 prices."
      ]
    },
    {
      "cell_type": "code",
      "execution_count": 65,
      "metadata": {
        "id": "cN-7q9QvvyKG"
      },
      "outputs": [],
      "source": [
        "# YOUR CHANGES HERE\n",
        "\n",
        "# Reset index so date becomes a column\n",
        "#historical_returns = historical_returns.reset_index()\n",
        "\n",
        "# Save as TSV with header row (date + tickers)\n",
        "# historical_returns.to_csv(\"historical_returns.tsv\", sep=\"\\t\", index=False)"
      ]
    },
    {
      "cell_type": "code",
      "execution_count": 66,
      "metadata": {},
      "outputs": [
        {
          "data": {
            "text/html": [
              "<div>\n",
              "<style scoped>\n",
              "    .dataframe tbody tr th:only-of-type {\n",
              "        vertical-align: middle;\n",
              "    }\n",
              "\n",
              "    .dataframe tbody tr th {\n",
              "        vertical-align: top;\n",
              "    }\n",
              "\n",
              "    .dataframe thead th {\n",
              "        text-align: right;\n",
              "    }\n",
              "</style>\n",
              "<table border=\"1\" class=\"dataframe\">\n",
              "  <thead>\n",
              "    <tr style=\"text-align: right;\">\n",
              "      <th></th>\n",
              "      <th>date</th>\n",
              "      <th>AAPL</th>\n",
              "      <th>SPY</th>\n",
              "      <th>TSLA</th>\n",
              "      <th>PEP</th>\n",
              "      <th>PYPL</th>\n",
              "      <th>PARA</th>\n",
              "    </tr>\n",
              "  </thead>\n",
              "  <tbody>\n",
              "    <tr>\n",
              "      <th>0</th>\n",
              "      <td>2023-10-01</td>\n",
              "      <td>-0.002570</td>\n",
              "      <td>-0.021709</td>\n",
              "      <td>-0.197346</td>\n",
              "      <td>-0.036355</td>\n",
              "      <td>-0.113924</td>\n",
              "      <td>-0.156589</td>\n",
              "    </tr>\n",
              "    <tr>\n",
              "      <th>1</th>\n",
              "      <td>2023-11-01</td>\n",
              "      <td>0.113780</td>\n",
              "      <td>0.091344</td>\n",
              "      <td>0.195379</td>\n",
              "      <td>0.038543</td>\n",
              "      <td>0.112162</td>\n",
              "      <td>0.320772</td>\n",
              "    </tr>\n",
              "    <tr>\n",
              "      <th>2</th>\n",
              "      <td>2023-12-01</td>\n",
              "      <td>0.013582</td>\n",
              "      <td>0.045655</td>\n",
              "      <td>0.034988</td>\n",
              "      <td>0.009210</td>\n",
              "      <td>0.065961</td>\n",
              "      <td>0.032510</td>\n",
              "    </tr>\n",
              "    <tr>\n",
              "      <th>3</th>\n",
              "      <td>2024-01-01</td>\n",
              "      <td>-0.042227</td>\n",
              "      <td>0.015926</td>\n",
              "      <td>-0.246257</td>\n",
              "      <td>-0.007713</td>\n",
              "      <td>-0.000977</td>\n",
              "      <td>-0.013523</td>\n",
              "    </tr>\n",
              "    <tr>\n",
              "      <th>4</th>\n",
              "      <td>2024-02-01</td>\n",
              "      <td>-0.018543</td>\n",
              "      <td>0.052187</td>\n",
              "      <td>0.077901</td>\n",
              "      <td>-0.011442</td>\n",
              "      <td>-0.016463</td>\n",
              "      <td>-0.243317</td>\n",
              "    </tr>\n",
              "  </tbody>\n",
              "</table>\n",
              "</div>"
            ],
            "text/plain": [
              "        date      AAPL       SPY      TSLA       PEP      PYPL      PARA\n",
              "0 2023-10-01 -0.002570 -0.021709 -0.197346 -0.036355 -0.113924 -0.156589\n",
              "1 2023-11-01  0.113780  0.091344  0.195379  0.038543  0.112162  0.320772\n",
              "2 2023-12-01  0.013582  0.045655  0.034988  0.009210  0.065961  0.032510\n",
              "3 2024-01-01 -0.042227  0.015926 -0.246257 -0.007713 -0.000977 -0.013523\n",
              "4 2024-02-01 -0.018543  0.052187  0.077901 -0.011442 -0.016463 -0.243317"
            ]
          },
          "execution_count": 66,
          "metadata": {},
          "output_type": "execute_result"
        }
      ],
      "source": [
        "historical_returns.head()"
      ]
    },
    {
      "cell_type": "code",
      "execution_count": 67,
      "metadata": {},
      "outputs": [
        {
          "data": {
            "text/plain": [
              "(24, 7)"
            ]
          },
          "execution_count": 67,
          "metadata": {},
          "output_type": "execute_result"
        }
      ],
      "source": [
        "historical_returns.shape"
      ]
    },
    {
      "cell_type": "markdown",
      "metadata": {
        "id": "vyBtnCTUtfRq"
      },
      "source": [
        "Submit \"historical_returns.tsv\" in Gradescope."
      ]
    },
    {
      "cell_type": "markdown",
      "metadata": {
        "id": "MoCkf4ouV9IA"
      },
      "source": [
        "## Part 3: Estimate Returns\n",
        "\n",
        "Estimate the expected returns for each asset using the previously calculated return data.\n",
        "Just compute the average (mean) return for each asset over your data set; do not use other estimators that have been mentioned.\n",
        "This will serve as your estimate of expected return for each asset."
      ]
    },
    {
      "cell_type": "code",
      "execution_count": 68,
      "metadata": {
        "id": "N2iDEhSRxd2n"
      },
      "outputs": [
        {
          "name": "stdout",
          "output_type": "stream",
          "text": [
            "AAPL    0.016154\n",
            "SPY     0.018989\n",
            "TSLA    0.026376\n",
            "PEP    -0.002516\n",
            "PYPL    0.009848\n",
            "PARA    0.013115\n",
            "Name: return, dtype: float64\n"
          ]
        }
      ],
      "source": [
        "# YOUR CHANGES HERE\n",
        "# We calculated estimated returns before to not have datetime column\n",
        "print(estimated_returns)"
      ]
    },
    {
      "cell_type": "code",
      "execution_count": 69,
      "metadata": {},
      "outputs": [
        {
          "data": {
            "text/plain": [
              "(6,)"
            ]
          },
          "execution_count": 69,
          "metadata": {},
          "output_type": "execute_result"
        }
      ],
      "source": [
        "estimated_returns.shape"
      ]
    },
    {
      "cell_type": "markdown",
      "metadata": {
        "id": "e5YTEwoarM2M"
      },
      "source": [
        "Save the estimated returns in a TSV file named \"estimated_returns.tsv\" and include a header row with the column names \"asset\" and \"estimated_return\"."
      ]
    },
    {
      "cell_type": "code",
      "execution_count": 70,
      "metadata": {
        "id": "At71YDpwvwUw"
      },
      "outputs": [],
      "source": [
        "# YOUR CHANGES HERE\n",
        "\n",
        "# estimated_returns = estimated_returns.reset_index()\n",
        "# estimated_returns.rename(columns={\"index\": \"asset\"}, inplace=True)\n",
        "\n",
        "# # Save to TSV\n",
        "# estimated_returns.to_csv(\"estimated_returns.tsv\", sep=\"\\t\", index=False)"
      ]
    },
    {
      "cell_type": "code",
      "execution_count": 71,
      "metadata": {},
      "outputs": [
        {
          "data": {
            "text/plain": [
              "AAPL    0.016154\n",
              "SPY     0.018989\n",
              "TSLA    0.026376\n",
              "PEP    -0.002516\n",
              "PYPL    0.009848\n",
              "PARA    0.013115\n",
              "Name: return, dtype: float64"
            ]
          },
          "execution_count": 71,
          "metadata": {},
          "output_type": "execute_result"
        }
      ],
      "source": [
        "estimated_returns.head(10)"
      ]
    },
    {
      "cell_type": "markdown",
      "metadata": {
        "id": "cjfnF-2Wtj6r"
      },
      "source": [
        "Submit \"estimated_returns.tsv\" in Gradescope."
      ]
    },
    {
      "cell_type": "markdown",
      "metadata": {
        "id": "VTuIqrkAWXVL"
      },
      "source": [
        "## Part 4: Estimate Risk\n",
        "\n",
        "Estimate the covariance matrix for the asset returns to understand how the assets move together."
      ]
    },
    {
      "cell_type": "code",
      "execution_count": 72,
      "metadata": {
        "id": "RFZfIkTMxcv7"
      },
      "outputs": [],
      "source": [
        "# YOUR CHANGES HERE\n",
        "# Covariance matrix:\n",
        "returns_only = historical_returns.drop(columns=[\"date\"], errors=\"ignore\")\n",
        "\n",
        "estimated_covariance = returns_only.cov()\n",
        "estimated_variances = returns_only.var()"
      ]
    },
    {
      "cell_type": "code",
      "execution_count": 73,
      "metadata": {},
      "outputs": [
        {
          "data": {
            "text/plain": [
              "AAPL   0.003481\n",
              "SPY    0.001247\n",
              "TSLA   0.025570\n",
              "PEP    0.001482\n",
              "PYPL   0.006830\n",
              "PARA   0.011698\n",
              "dtype: float64"
            ]
          },
          "execution_count": 73,
          "metadata": {},
          "output_type": "execute_result"
        }
      ],
      "source": [
        "estimated_variances"
      ]
    },
    {
      "cell_type": "code",
      "execution_count": 74,
      "metadata": {},
      "outputs": [
        {
          "data": {
            "text/html": [
              "<div>\n",
              "<style scoped>\n",
              "    .dataframe tbody tr th:only-of-type {\n",
              "        vertical-align: middle;\n",
              "    }\n",
              "\n",
              "    .dataframe tbody tr th {\n",
              "        vertical-align: top;\n",
              "    }\n",
              "\n",
              "    .dataframe thead th {\n",
              "        text-align: right;\n",
              "    }\n",
              "</style>\n",
              "<table border=\"1\" class=\"dataframe\">\n",
              "  <thead>\n",
              "    <tr style=\"text-align: right;\">\n",
              "      <th></th>\n",
              "      <th>AAPL</th>\n",
              "      <th>SPY</th>\n",
              "      <th>TSLA</th>\n",
              "      <th>PEP</th>\n",
              "      <th>PYPL</th>\n",
              "      <th>PARA</th>\n",
              "    </tr>\n",
              "  </thead>\n",
              "  <tbody>\n",
              "    <tr>\n",
              "      <th>AAPL</th>\n",
              "      <td>0.003481</td>\n",
              "      <td>0.000784</td>\n",
              "      <td>0.003131</td>\n",
              "      <td>0.000610</td>\n",
              "      <td>0.000018</td>\n",
              "      <td>0.001892</td>\n",
              "    </tr>\n",
              "    <tr>\n",
              "      <th>SPY</th>\n",
              "      <td>0.000784</td>\n",
              "      <td>0.001247</td>\n",
              "      <td>0.002298</td>\n",
              "      <td>0.000367</td>\n",
              "      <td>0.001401</td>\n",
              "      <td>0.000979</td>\n",
              "    </tr>\n",
              "    <tr>\n",
              "      <th>TSLA</th>\n",
              "      <td>0.003131</td>\n",
              "      <td>0.002298</td>\n",
              "      <td>0.025570</td>\n",
              "      <td>-0.000795</td>\n",
              "      <td>0.007041</td>\n",
              "      <td>0.002602</td>\n",
              "    </tr>\n",
              "    <tr>\n",
              "      <th>PEP</th>\n",
              "      <td>0.000610</td>\n",
              "      <td>0.000367</td>\n",
              "      <td>-0.000795</td>\n",
              "      <td>0.001482</td>\n",
              "      <td>0.000830</td>\n",
              "      <td>0.002140</td>\n",
              "    </tr>\n",
              "    <tr>\n",
              "      <th>PYPL</th>\n",
              "      <td>0.000018</td>\n",
              "      <td>0.001401</td>\n",
              "      <td>0.007041</td>\n",
              "      <td>0.000830</td>\n",
              "      <td>0.006830</td>\n",
              "      <td>0.003309</td>\n",
              "    </tr>\n",
              "    <tr>\n",
              "      <th>PARA</th>\n",
              "      <td>0.001892</td>\n",
              "      <td>0.000979</td>\n",
              "      <td>0.002602</td>\n",
              "      <td>0.002140</td>\n",
              "      <td>0.003309</td>\n",
              "      <td>0.011698</td>\n",
              "    </tr>\n",
              "  </tbody>\n",
              "</table>\n",
              "</div>"
            ],
            "text/plain": [
              "         AAPL      SPY      TSLA       PEP     PYPL     PARA\n",
              "AAPL 0.003481 0.000784  0.003131  0.000610 0.000018 0.001892\n",
              "SPY  0.000784 0.001247  0.002298  0.000367 0.001401 0.000979\n",
              "TSLA 0.003131 0.002298  0.025570 -0.000795 0.007041 0.002602\n",
              "PEP  0.000610 0.000367 -0.000795  0.001482 0.000830 0.002140\n",
              "PYPL 0.000018 0.001401  0.007041  0.000830 0.006830 0.003309\n",
              "PARA 0.001892 0.000979  0.002602  0.002140 0.003309 0.011698"
            ]
          },
          "execution_count": 74,
          "metadata": {},
          "output_type": "execute_result"
        }
      ],
      "source": [
        "estimated_covariance"
      ]
    },
    {
      "cell_type": "markdown",
      "metadata": {
        "id": "sOmn4s_yr5qn"
      },
      "source": [
        "Save the estimated covariances to a TSV file named \"estimated_covariance.tsv\".\n",
        "The header row should have a blank column name followed by the names of the assets.\n",
        "Each data row should start with the name of an asset for that row, and be followed by the individual covariances corresponding to that row and column's assets.\n",
        "(This is the format of pandas's `to_csv` method with `sep=\"\\t\"` when used on a covariance matrix as computed in the examples.)"
      ]
    },
    {
      "cell_type": "code",
      "execution_count": 75,
      "metadata": {
        "id": "Te-NPQxSvuXm"
      },
      "outputs": [],
      "source": [
        "# YOUR CHANGES HERE\n",
        "\n",
        "estimated_covariance.to_csv(\"estimated_covariance.tsv\", sep=\"\\t\")"
      ]
    },
    {
      "cell_type": "markdown",
      "metadata": {
        "id": "lS9vek0btoK6"
      },
      "source": [
        "Submit \"estimated_covariance.tsv\" in Gradescope."
      ]
    },
    {
      "cell_type": "markdown",
      "metadata": {
        "id": "C8rC5Eo3sEme"
      },
      "source": [
        "## Part 5: Construct the Maximum Return Portfolio\n",
        "\n",
        "Compute the maximum return portfolio based on your previously estimated risks and returns."
      ]
    },
    {
      "cell_type": "code",
      "execution_count": 76,
      "metadata": {},
      "outputs": [
        {
          "name": "stdout",
          "output_type": "stream",
          "text": [
            "Maximum-return portfolio (weights):\n",
            "  AAPL: 0.0000\n",
            "  SPY: 0.0000\n",
            "  TSLA: 1.0000\n",
            "  PEP: 0.0000\n",
            "  PYPL: 0.0000\n",
            "  PARA: 0.0000\n",
            "\n",
            "Expected monthly return: 0.026376\n",
            "Monthly variance:        0.025570\n",
            "Monthly std. dev.:       0.159905\n"
          ]
        }
      ],
      "source": [
        "# Standardize estimated_returns to a Series with ticker index\n",
        "if isinstance(estimated_returns, pd.DataFrame):\n",
        "    # Case: two-column DataFrame\n",
        "    if {\"asset\", \"return\"}.issubset(estimated_returns.columns):\n",
        "        estimated_returns = (\n",
        "            estimated_returns.set_index(\"asset\")[\"return\"].astype(float)\n",
        "        )\n",
        "    else:\n",
        "        # Case: single-column DataFrame\n",
        "        estimated_returns = estimated_returns.squeeze(\"columns\").astype(float)\n",
        "else:\n",
        "    # Already a Series\n",
        "    estimated_returns = estimated_returns.astype(float)\n",
        "\n",
        "# Align covariance \n",
        "estimated_covariance = (\n",
        "    estimated_covariance\n",
        "    .reindex(index=estimated_returns.index, columns=estimated_returns.index)\n",
        "    .astype(float)\n",
        ")\n",
        "\n",
        "\n",
        "mu = estimated_returns.values.astype(float)      # shape (n,)\n",
        "Sigma = estimated_covariance.values.astype(float)  # shape (n,n)\n",
        "n = len(mu)\n",
        "\n",
        "# Max-return portfolio \n",
        "x_max = cp.Variable(n)\n",
        "prob_max = cp.Problem(cp.Maximize(mu @ x_max),\n",
        "                      [x_max >= 0,\n",
        "                       cp.sum(x_max) == 1])\n",
        "_ = prob_max.solve()\n",
        "\n",
        "w_max = np.array(x_max.value, dtype=float)\n",
        "ret_max = float(mu @ w_max)\n",
        "var_max = float(w_max @ Sigma @ w_max)\n",
        "std_max = float(np.sqrt(var_max))\n",
        "\n",
        "\n",
        "print(\"Maximum-return portfolio (weights):\")\n",
        "for asset, w in zip(estimated_returns.index.tolist(), w_max):\n",
        "    print(f\"  {asset}: {w:.4f}\")\n",
        "print(f\"\\nExpected monthly return: {ret_max:.6f}\")\n",
        "print(f\"Monthly variance:        {var_max:.6f}\")\n",
        "print(f\"Monthly std. dev.:       {std_max:.6f}\")"
      ]
    },
    {
      "cell_type": "markdown",
      "metadata": {
        "id": "jjPOxui5sLTD"
      },
      "source": [
        "Save the maximum return portfolio in a TSV file named \"maximum_return.tsv\".\n",
        "The header row should have two columns, \"asset\" and \"allocation\".\n",
        "The allocation values should sum up to one.\n"
      ]
    },
    {
      "cell_type": "code",
      "execution_count": 77,
      "metadata": {
        "id": "xLl_j8z1vtiT"
      },
      "outputs": [],
      "source": [
        "# YOUR CHANGES HERE\n",
        "\n",
        "# Build a DataFrame with asset and allocation\n",
        "max_return_portfolio = (\n",
        "    pd.Series(w_max, index=estimated_returns.index, name=\"allocation\")\n",
        "    .rename_axis(\"asset\")\n",
        "    .reset_index()\n",
        ")\n",
        "\n",
        "# Save to TSV\n",
        "max_return_portfolio.to_csv(\"maximum_return.tsv\", sep=\"\\t\", index=False)\n",
        "\n"
      ]
    },
    {
      "cell_type": "code",
      "execution_count": 78,
      "metadata": {},
      "outputs": [
        {
          "data": {
            "text/html": [
              "<div>\n",
              "<style scoped>\n",
              "    .dataframe tbody tr th:only-of-type {\n",
              "        vertical-align: middle;\n",
              "    }\n",
              "\n",
              "    .dataframe tbody tr th {\n",
              "        vertical-align: top;\n",
              "    }\n",
              "\n",
              "    .dataframe thead th {\n",
              "        text-align: right;\n",
              "    }\n",
              "</style>\n",
              "<table border=\"1\" class=\"dataframe\">\n",
              "  <thead>\n",
              "    <tr style=\"text-align: right;\">\n",
              "      <th></th>\n",
              "      <th>asset</th>\n",
              "      <th>allocation</th>\n",
              "    </tr>\n",
              "  </thead>\n",
              "  <tbody>\n",
              "    <tr>\n",
              "      <th>0</th>\n",
              "      <td>AAPL</td>\n",
              "      <td>0.000000</td>\n",
              "    </tr>\n",
              "    <tr>\n",
              "      <th>1</th>\n",
              "      <td>SPY</td>\n",
              "      <td>0.000000</td>\n",
              "    </tr>\n",
              "    <tr>\n",
              "      <th>2</th>\n",
              "      <td>TSLA</td>\n",
              "      <td>1.000000</td>\n",
              "    </tr>\n",
              "    <tr>\n",
              "      <th>3</th>\n",
              "      <td>PEP</td>\n",
              "      <td>0.000000</td>\n",
              "    </tr>\n",
              "    <tr>\n",
              "      <th>4</th>\n",
              "      <td>PYPL</td>\n",
              "      <td>0.000000</td>\n",
              "    </tr>\n",
              "    <tr>\n",
              "      <th>5</th>\n",
              "      <td>PARA</td>\n",
              "      <td>0.000000</td>\n",
              "    </tr>\n",
              "  </tbody>\n",
              "</table>\n",
              "</div>"
            ],
            "text/plain": [
              "  asset  allocation\n",
              "0  AAPL    0.000000\n",
              "1   SPY    0.000000\n",
              "2  TSLA    1.000000\n",
              "3   PEP    0.000000\n",
              "4  PYPL    0.000000\n",
              "5  PARA    0.000000"
            ]
          },
          "execution_count": 78,
          "metadata": {},
          "output_type": "execute_result"
        }
      ],
      "source": [
        "max_return_portfolio"
      ]
    },
    {
      "cell_type": "markdown",
      "metadata": {
        "id": "4bm3xrxptqJ2"
      },
      "source": [
        "Submit \"maximum_return.tsv\" in Gradescope."
      ]
    },
    {
      "cell_type": "markdown",
      "metadata": {
        "id": "r_QxQ5NpsL-c"
      },
      "source": [
        "## Part 6: Construct the Minimum Risk Portfolio\n",
        "\n",
        "Compute the minimum risk portfolio based on your previously estimated risks."
      ]
    },
    {
      "cell_type": "code",
      "execution_count": 79,
      "metadata": {
        "id": "daHSqhv9xbIF"
      },
      "outputs": [
        {
          "name": "stdout",
          "output_type": "stream",
          "text": [
            "Minimum-risk (GMV) portfolio weights:\n",
            "  AAPL: 0.052033\n",
            "  SPY: 0.525213\n",
            "  TSLA: -0.000000\n",
            "  PEP: 0.422754\n",
            "  PYPL: -0.000000\n",
            "  PARA: 0.000000\n",
            "\n",
            "GMV variance:  0.000851\n",
            "GMV st. dev.:  0.029170\n",
            "GMV exp. ret.: 0.009750\n"
          ]
        }
      ],
      "source": [
        "# YOUR CHANGES HERE\n",
        "\n",
        "# estimated_covariance\n",
        "assets = estimated_covariance.index.tolist()\n",
        "Sigma = (\n",
        "    estimated_covariance\n",
        "    .reindex(index=assets, columns=assets)   # just to be explicit\n",
        "    .astype(float)\n",
        "    .values\n",
        ")\n",
        "\n",
        "\n",
        "if isinstance(estimated_returns, pd.DataFrame):\n",
        "    # handle the case where it's a 2-col DF (asset, return)\n",
        "    if {\"asset\", \"return\"}.issubset(estimated_returns.columns):\n",
        "        mu_s = estimated_returns.set_index(\"asset\")[\"return\"].astype(float).reindex(assets)\n",
        "    else:\n",
        "        mu_s = estimated_returns.squeeze(\"columns\").astype(float).reindex(assets)\n",
        "else:\n",
        "    mu_s = pd.Series(estimated_returns, index=getattr(estimated_returns, \"index\", assets), dtype=float).reindex(assets)\n",
        "\n",
        "mu = mu_s.values.astype(float)  \n",
        "\n",
        "\n",
        "n = len(assets)\n",
        "x_min = cp.Variable(n)\n",
        "prob_min = cp.Problem(\n",
        "    cp.Minimize(cp.quad_form(x_min, Sigma)),\n",
        "    [x_min >= 0, cp.sum(x_min) == 1]\n",
        ")\n",
        "var_min = prob_min.solve()\n",
        "\n",
        "w_min = np.array(x_min.value, dtype=float)\n",
        "std_min = float(np.sqrt(var_min))\n",
        "ret_min = float(mu @ w_min)  \n",
        "\n",
        "\n",
        "print(\"Minimum-risk (GMV) portfolio weights:\")\n",
        "for a, w in zip(assets, w_min):\n",
        "    print(f\"  {a}: {w:.6f}\")\n",
        "print(f\"\\nGMV variance:  {var_min:.6f}\")\n",
        "print(f\"GMV st. dev.:  {std_min:.6f}\")\n",
        "print(f\"GMV exp. ret.: {ret_min:.6f}\") "
      ]
    },
    {
      "cell_type": "markdown",
      "metadata": {
        "id": "wzldkIPxsQor"
      },
      "source": [
        "Save the minimum risk portfolio in a TSV file named \"minimum_risk.tsv\".\n",
        "The header row should have two columns, \"asset\" and \"allocation\".\n",
        "The allocation values should sum up to one.\n"
      ]
    },
    {
      "cell_type": "code",
      "execution_count": 80,
      "metadata": {
        "id": "YRXccAflvrBZ"
      },
      "outputs": [],
      "source": [
        "# YOUR CHANGES HERE\n",
        "\n",
        "min_risk_df = pd.DataFrame({\n",
        "    \"asset\": assets,          \n",
        "    \"allocation\": w_min       \n",
        "})\n",
        "\n",
        "# Allocations sum to 1\n",
        "assert abs(min_risk_df[\"allocation\"].sum() - 1.0) < 1e-8, \"Weights do not sum to 1!\"\n",
        "\n",
        "# Save to TSV\n",
        "min_risk_df.to_csv(\"minimum_risk.tsv\", sep=\"\\t\", index=False, float_format=\"%.6f\")"
      ]
    },
    {
      "cell_type": "code",
      "execution_count": 81,
      "metadata": {},
      "outputs": [
        {
          "data": {
            "text/html": [
              "<div>\n",
              "<style scoped>\n",
              "    .dataframe tbody tr th:only-of-type {\n",
              "        vertical-align: middle;\n",
              "    }\n",
              "\n",
              "    .dataframe tbody tr th {\n",
              "        vertical-align: top;\n",
              "    }\n",
              "\n",
              "    .dataframe thead th {\n",
              "        text-align: right;\n",
              "    }\n",
              "</style>\n",
              "<table border=\"1\" class=\"dataframe\">\n",
              "  <thead>\n",
              "    <tr style=\"text-align: right;\">\n",
              "      <th></th>\n",
              "      <th>asset</th>\n",
              "      <th>allocation</th>\n",
              "    </tr>\n",
              "  </thead>\n",
              "  <tbody>\n",
              "    <tr>\n",
              "      <th>0</th>\n",
              "      <td>AAPL</td>\n",
              "      <td>0.052033</td>\n",
              "    </tr>\n",
              "    <tr>\n",
              "      <th>1</th>\n",
              "      <td>SPY</td>\n",
              "      <td>0.525213</td>\n",
              "    </tr>\n",
              "    <tr>\n",
              "      <th>2</th>\n",
              "      <td>TSLA</td>\n",
              "      <td>-0.000000</td>\n",
              "    </tr>\n",
              "    <tr>\n",
              "      <th>3</th>\n",
              "      <td>PEP</td>\n",
              "      <td>0.422754</td>\n",
              "    </tr>\n",
              "    <tr>\n",
              "      <th>4</th>\n",
              "      <td>PYPL</td>\n",
              "      <td>-0.000000</td>\n",
              "    </tr>\n",
              "    <tr>\n",
              "      <th>5</th>\n",
              "      <td>PARA</td>\n",
              "      <td>0.000000</td>\n",
              "    </tr>\n",
              "  </tbody>\n",
              "</table>\n",
              "</div>"
            ],
            "text/plain": [
              "  asset  allocation\n",
              "0  AAPL    0.052033\n",
              "1   SPY    0.525213\n",
              "2  TSLA   -0.000000\n",
              "3   PEP    0.422754\n",
              "4  PYPL   -0.000000\n",
              "5  PARA    0.000000"
            ]
          },
          "execution_count": 81,
          "metadata": {},
          "output_type": "execute_result"
        }
      ],
      "source": [
        "min_risk_df"
      ]
    },
    {
      "cell_type": "markdown",
      "metadata": {
        "id": "P5gy_XETtsoi"
      },
      "source": [
        "Submit \"minimum_risk.tsv\" in Gradescope."
      ]
    },
    {
      "cell_type": "markdown",
      "metadata": {
        "id": "mzyJGWDvWhva"
      },
      "source": [
        "## Part 7: Build Efficient Frontier Portfolios\n",
        "\n",
        "Compute 101 portfolios along the mean-variance efficient frontier with evenly spaced estimated returns.\n",
        "The first portfolio should be the minimum risk portfolio from part 4, and the last portfolio should be the maximum return portfolio from part 3.\n",
        "The estimated return of each portfolio should be higher than the previous by one percent of the difference between the first and last portfolios.\n",
        "That is, the estimated return of the portfolios should be similar to `np.linspace(min_risk_return, max_return, 101)`.\n"
      ]
    },
    {
      "cell_type": "code",
      "execution_count": 82,
      "metadata": {
        "id": "XaR6mKwvxZ4W"
      },
      "outputs": [
        {
          "name": "stdout",
          "output_type": "stream",
          "text": [
            "EF computed: 101 portfolios, returns from 0.009749957697448422 to 0.0263760398222026 std range: 0.0291705399464589 → 0.15990482157194422\n"
          ]
        }
      ],
      "source": [
        "# YOUR CHANGES HERE\n",
        "\n",
        "if isinstance(estimated_returns, pd.DataFrame):\n",
        "    if {\"asset\", \"return\"}.issubset(estimated_returns.columns):\n",
        "        mu_s = estimated_returns.set_index(\"asset\")[\"return\"].astype(float)\n",
        "    else:\n",
        "        mu_s = estimated_returns.squeeze(\"columns\").astype(float)\n",
        "else:\n",
        "    mu_s = pd.Series(estimated_returns, dtype=float)\n",
        "\n",
        "assets = mu_s.index.tolist()\n",
        "mu = mu_s.values.astype(float)  # shape (n,)\n",
        "\n",
        "# Align covariance to the same order of tickers\n",
        "Sigma = (\n",
        "    estimated_covariance\n",
        "    .reindex(index=assets, columns=assets)\n",
        "    .astype(float)\n",
        "    .values\n",
        ")\n",
        "n = len(assets)\n",
        "\n",
        "# Minimum-risk portfolio\n",
        "x_min = cp.Variable(n)\n",
        "prob_min = cp.Problem(cp.Minimize(cp.quad_form(x_min, Sigma)),\n",
        "                      [x_min >= 0, cp.sum(x_min) == 1])\n",
        "var_min = prob_min.solve()\n",
        "w_min = np.array(x_min.value, dtype=float)\n",
        "ret_min = float(mu @ w_min)\n",
        "\n",
        "# Maximum-return portfolio \n",
        "x_max = cp.Variable(n)\n",
        "prob_max = cp.Problem(cp.Maximize(mu @ x_max),\n",
        "                      [x_max >= 0, cp.sum(x_max) == 1])\n",
        "_ = prob_max.solve()\n",
        "w_max = np.array(x_max.value, dtype=float)\n",
        "ret_max = float(mu @ w_max)\n",
        "\n",
        "# 101 evenly spaced target returns \n",
        "r_grid = np.linspace(ret_min, ret_max, 101)\n",
        "\n",
        "ef_returns = []\n",
        "ef_variances = []\n",
        "ef_portfolios = []\n",
        "\n",
        "\n",
        "last_x = w_min  \n",
        "for r in r_grid:\n",
        "    x = cp.Variable(n)\n",
        "    constraints = [x >= 0, cp.sum(x) == 1, mu @ x == r]\n",
        "    obj = cp.Minimize(cp.quad_form(x, Sigma))\n",
        "    prob = cp.Problem(obj, constraints)\n",
        "    try:\n",
        "        _ = prob.solve(solver=cp.ECOS, warm_start=True)\n",
        "    except Exception:\n",
        "        _ = prob.solve(solver=cp.SCS, warm_start=True, verbose=False)\n",
        "\n",
        "    w = np.array(x.value, dtype=float)\n",
        "    # Fallback in rare numerical cases\n",
        "    if w is None or not np.isfinite(w).all():\n",
        "        w = last_x.copy()\n",
        "    last_x = w\n",
        "\n",
        "    ef_portfolios.append(w)\n",
        "    ef_returns.append(float(r))\n",
        "    ef_variances.append(float(w @ Sigma @ w))\n",
        "\n",
        "ef_portfolios = np.vstack(ef_portfolios)  # shape (101, n)\n",
        "ef_returns = np.array(ef_returns)\n",
        "ef_variances = np.array(ef_variances)\n",
        "\n",
        "print(\"EF computed: 101 portfolios,\",\n",
        "      \"returns from\", ef_returns[0], \"to\", ef_returns[-1],\n",
        "      \"std range:\", np.sqrt(ef_variances).min(), \"→\", np.sqrt(ef_variances).max())"
      ]
    },
    {
      "cell_type": "code",
      "execution_count": 83,
      "metadata": {},
      "outputs": [
        {
          "data": {
            "image/png": "[encoded data removed]",
            "text/plain": [
              "<Figure size 1000x500 with 1 Axes>"
            ]
          },
          "metadata": {},
          "output_type": "display_data"
        }
      ],
      "source": [
        "import matplotlib.pyplot as plt\n",
        "\n",
        "plt.figure(figsize=(10, 5))\n",
        "bottom = np.zeros(ef_portfolios.shape[0])\n",
        "\n",
        "# Ensure the plotting order matches the portfolio columns\n",
        "for i, a in enumerate(assets):\n",
        "    plt.bar(x=ef_returns,\n",
        "            height=ef_portfolios[:, i],\n",
        "            bottom=bottom,\n",
        "            label=a,\n",
        "            width=(ef_returns[1] - ef_returns[0]))\n",
        "    bottom += ef_portfolios[:, i]\n",
        "\n",
        "plt.legend()\n",
        "plt.xlabel(\"Portfolio Return\")\n",
        "plt.xlim(float(ef_returns.min()), float(ef_returns.max()))\n",
        "plt.ylabel(\"Portfolio Allocation\")\n",
        "plt.ylim(0, 1)\n",
        "plt.title(\"Portfolio Composition Map of the Mean-Variance Efficient Frontier\")\n",
        "plt.show()"
      ]
    },
    {
      "cell_type": "markdown",
      "metadata": {
        "id": "8e3WwTJvsDzh"
      },
      "source": [
        "Save the portfolios in a TSV file named \"efficient_frontier.tsv\".\n",
        "The header row should have columns \"index\", \"return\", \"risk\", and all the asset tickers.\n",
        "Each data row should have the portfolio index (0-100), the estimated return of the portfolio, the estimated standard deviation (not variance) of the portfolio, and all the asset allocations (which should sum to one)."
      ]
    },
    {
      "cell_type": "code",
      "execution_count": 84,
      "metadata": {
        "id": "e9DKadyNvniT"
      },
      "outputs": [],
      "source": [
        "# YOUR CHANGES HERE\n",
        "\n",
        "ef_risks = np.sqrt(ef_variances)\n",
        "\n",
        "# Build DataFrame\n",
        "ef_df = pd.DataFrame(ef_portfolios, columns=assets)\n",
        "ef_df.insert(0, \"risk\", ef_risks)\n",
        "ef_df.insert(0, \"return\", ef_returns)\n",
        "ef_df.insert(0, \"index\", np.arange(len(ef_returns)))\n",
        "\n",
        "# Allocations sum to 1 \n",
        "assert np.allclose(ef_df[assets].sum(axis=1), 1.0, atol=1e-6)\n",
        "\n",
        "# Save to TSV\n",
        "ef_df.to_csv(\"efficient_frontier.tsv\", sep=\"\\t\", index=False, float_format=\"%.6f\")"
      ]
    },
    {
      "cell_type": "markdown",
      "metadata": {
        "id": "jiOa06rItvbs"
      },
      "source": [
        "Submit \"efficient_frontier.tsv\" in Gradescope."
      ]
    },
    {
      "cell_type": "markdown",
      "metadata": {
        "id": "LoW0XBXAzzR6"
      },
      "source": [
        "## Part 8: Check Maximum Return Portfolio Stability\n",
        "\n",
        "Check the stability of the maximum return portfolio by resampling the estimated risk/return model.\n",
        "\n",
        "Repeat 1000 times -\n",
        "1. Use `np.random.multivariate_normal` to generate 23 return samples using your previously estimated risks and returns.\n",
        "2. Estimate the return of each asset using that resampled return history.\n",
        "3. Check which asset had the highest return in those resampled estimates.\n",
        "\n",
        "This procedure is a reduced and simplified version of the Michaud resampled efficient frontier procedure that takes uncertainty in the risk model into account."
      ]
    },
    {
      "cell_type": "code",
      "execution_count": 85,
      "metadata": {
        "id": "Xfke5V57xYvT"
      },
      "outputs": [
        {
          "name": "stdout",
          "output_type": "stream",
          "text": [
            "  asset  wins    share\n",
            "0  TSLA   478 0.478000\n",
            "1  PARA   184 0.184000\n",
            "2   SPY   152 0.152000\n",
            "3  AAPL   128 0.128000\n",
            "4  PYPL    57 0.057000\n",
            "5   PEP     1 0.001000\n",
            "\n",
            "Original max-return asset: TSLA — wins in 0.478 of resamples.\n"
          ]
        },
        {
          "name": "stderr",
          "output_type": "stream",
          "text": [
            "/tmp/ipykernel_32273/1401760613.py:49: FutureWarning: Calling float on a single element Series is deprecated and will raise a TypeError in the future. Use float(ser.iloc[0]) instead\n",
            "  orig_best_share = float(stability_df.loc[stability_df[\"asset\"] == orig_best, \"share\"])\n"
          ]
        }
      ],
      "source": [
        "# YOUR CHANGES HERE\n",
        "\n",
        "# Standardize inputs \n",
        "if isinstance(estimated_returns, pd.DataFrame):\n",
        "    mu_s = estimated_returns.set_index(\"asset\")[\"return\"].astype(float)\n",
        "else:\n",
        "    mu_s = pd.Series(estimated_returns, dtype=float)\n",
        "assets = mu_s.index.tolist()\n",
        "mu = mu_s.values.astype(float)\n",
        "\n",
        "Sigma = (\n",
        "    estimated_covariance\n",
        "    .reindex(index=assets, columns=assets)\n",
        "    .astype(float)\n",
        ").values\n",
        "\n",
        "Sigma = (Sigma + Sigma.T) / 2.0\n",
        "eigvals = np.linalg.eigvalsh(Sigma)\n",
        "min_eig = eigvals.min()\n",
        "if min_eig < 1e-12:\n",
        "    # add a small ridge to make it PSD\n",
        "    Sigma += np.eye(Sigma.shape[0]) * (1e-8 - min_eig)\n",
        "\n",
        "# Resample\n",
        "B = 1000       # number of resamples\n",
        "T = 23         # length of return history to simulate (differences of 24 prices)\n",
        "rng = np.random.default_rng(704)\n",
        "\n",
        "winner_counts = np.zeros(len(assets), dtype=int)\n",
        "\n",
        "for _ in range(B):\n",
        "    # simulate T monthly returns from MVN(mu, Sigma)\n",
        "    sim = rng.multivariate_normal(mean=mu, cov=Sigma, size=T)  # shape (T, n_assets)\n",
        "    sim_means = sim.mean(axis=0)                                # mean return per asset\n",
        "    winner = int(np.argmax(sim_means))                          # index of top-mean asset\n",
        "    winner_counts[winner] += 1\n",
        "\n",
        "winner_share = winner_counts / B\n",
        "\n",
        "stability_df = pd.DataFrame({\n",
        "    \"asset\": assets,\n",
        "    \"wins\": winner_counts,\n",
        "    \"share\": winner_share\n",
        "}).sort_values(\"share\", ascending=False).reset_index(drop=True)\n",
        "\n",
        "print(stability_df)\n",
        "\n",
        "orig_best = mu_s.idxmax()\n",
        "orig_best_share = float(stability_df.loc[stability_df[\"asset\"] == orig_best, \"share\"])\n",
        "print(f\"\\nOriginal max-return asset: {orig_best} — wins in {orig_best_share:.3f} of resamples.\")\n"
      ]
    },
    {
      "cell_type": "markdown",
      "metadata": {
        "id": "fes_ScDyz0jp"
      },
      "source": [
        "Save a file \"max_return_probabilities.tsv\" with the distribution of highest return assets.\n",
        "The header row should have columns \"asset\" and \"probability\".\n",
        "There should be a data row for each asset and its sample probability of having the highest return based on those 1000 resampled estimates.\n"
      ]
    },
    {
      "cell_type": "code",
      "execution_count": 86,
      "metadata": {
        "id": "ZAjr15ASvj1S"
      },
      "outputs": [],
      "source": [
        "# YOUR CHANGES HERE\n",
        "\n",
        "B = 1000  # number of resamples used\n",
        "\n",
        "# Build probability DataFrame\n",
        "prob_df = pd.DataFrame({\n",
        "    \"asset\": assets,\n",
        "    \"probability\": winner_counts / B\n",
        "})\n",
        "\n",
        "# Save to TSV \n",
        "prob_df.to_csv(\"max_return_probabilities.tsv\", sep=\"\\t\", index=False, float_format=\"%.6f\")"
      ]
    },
    {
      "cell_type": "code",
      "execution_count": 87,
      "metadata": {},
      "outputs": [
        {
          "data": {
            "text/html": [
              "<div>\n",
              "<style scoped>\n",
              "    .dataframe tbody tr th:only-of-type {\n",
              "        vertical-align: middle;\n",
              "    }\n",
              "\n",
              "    .dataframe tbody tr th {\n",
              "        vertical-align: top;\n",
              "    }\n",
              "\n",
              "    .dataframe thead th {\n",
              "        text-align: right;\n",
              "    }\n",
              "</style>\n",
              "<table border=\"1\" class=\"dataframe\">\n",
              "  <thead>\n",
              "    <tr style=\"text-align: right;\">\n",
              "      <th></th>\n",
              "      <th>asset</th>\n",
              "      <th>probability</th>\n",
              "    </tr>\n",
              "  </thead>\n",
              "  <tbody>\n",
              "    <tr>\n",
              "      <th>0</th>\n",
              "      <td>AAPL</td>\n",
              "      <td>0.128000</td>\n",
              "    </tr>\n",
              "    <tr>\n",
              "      <th>1</th>\n",
              "      <td>SPY</td>\n",
              "      <td>0.152000</td>\n",
              "    </tr>\n",
              "    <tr>\n",
              "      <th>2</th>\n",
              "      <td>TSLA</td>\n",
              "      <td>0.478000</td>\n",
              "    </tr>\n",
              "    <tr>\n",
              "      <th>3</th>\n",
              "      <td>PEP</td>\n",
              "      <td>0.001000</td>\n",
              "    </tr>\n",
              "    <tr>\n",
              "      <th>4</th>\n",
              "      <td>PYPL</td>\n",
              "      <td>0.057000</td>\n",
              "    </tr>\n",
              "  </tbody>\n",
              "</table>\n",
              "</div>"
            ],
            "text/plain": [
              "  asset  probability\n",
              "0  AAPL     0.128000\n",
              "1   SPY     0.152000\n",
              "2  TSLA     0.478000\n",
              "3   PEP     0.001000\n",
              "4  PYPL     0.057000"
            ]
          },
          "execution_count": 87,
          "metadata": {},
          "output_type": "execute_result"
        }
      ],
      "source": [
        "prob_df.head()"
      ]
    },
    {
      "cell_type": "code",
      "execution_count": 88,
      "metadata": {},
      "outputs": [
        {
          "data": {
            "text/plain": [
              "(6, 2)"
            ]
          },
          "execution_count": 88,
          "metadata": {},
          "output_type": "execute_result"
        }
      ],
      "source": [
        "prob_df.shape"
      ]
    },
    {
      "cell_type": "markdown",
      "metadata": {
        "id": "2Xd34FQ6txoj"
      },
      "source": [
        "Submit \"max_return_probabilities.tsv\" in Gradescope."
      ]
    },
    {
      "cell_type": "markdown",
      "metadata": {
        "id": "SYbJ21qUYvL_"
      },
      "source": [
        "## Part 9: Acknowledgments\n",
        "\n",
        "Make a file \"acknowledgments.txt\" documenting any outside sources or help on this project.\n",
        "If you discussed this assignment with anyone, please acknowledge them here.\n",
        "If you used any libraries not mentioned in this module's content, please list them with a brief explanation what you used them for.\n",
        "If you used any generative AI tools, please add links to your transcripts below, and any other information that you feel is necessary to comply with the generative AI policy.\n",
        "If no acknowledgements are appropriate, just write none in the file.\n"
      ]
    },
    {
      "cell_type": "code",
      "execution_count": 89,
      "metadata": {},
      "outputs": [
        {
          "name": "stdout",
          "output_type": "stream",
          "text": [
            "Wrote: /workspaces/dx704-project-01/acknowledgements.txt\n",
            "Exists: True\n"
          ]
        }
      ],
      "source": [
        "from pathlib import Path\n",
        "\n",
        "# Create acknowledgements.txt in the current working directory\n",
        "Path(\"acknowledgements.txt\").write_text(\"I only used Week 1 lecture code.\\n\", encoding=\"utf-8\")\n",
        "\n",
        "# Sanity check\n",
        "p = Path(\"acknowledgements.txt\").resolve()\n",
        "print(\"Wrote:\", p)\n",
        "print(\"Exists:\", p.exists())"
      ]
    },
    {
      "cell_type": "markdown",
      "metadata": {
        "id": "H3oWYYHlt42V"
      },
      "source": [
        "Submit \"acknowledgements.txt\" in Gradescope."
      ]
    },
    {
      "cell_type": "markdown",
      "metadata": {
        "id": "b8FWiTjvwscA"
      },
      "source": [
        "## Part 10: Code\n",
        "\n",
        "Please submit a Jupyter notebook that can reproduce all your calculations and recreate the previously submitted files.\n",
        "You do not need to provide code for data collection if you did that by manually."
      ]
    },
    {
      "cell_type": "markdown",
      "metadata": {
        "id": "HDEYI-K8vcUW"
      },
      "source": [
        "Submit \"project.ipynb\" in Gradescope."
      ]
    }
  ],
  "metadata": {
    "colab": {
      "toc_visible": false
    },
    "kernelspec": {
      "display_name": "Python 3",
      "name": "python3"
    },
    "language_info": {
      "codemirror_mode": {
        "name": "ipython",
        "version": 3
      },
      "file_extension": ".py",
      "mimetype": "text/x-python",
      "name": "python",
      "nbconvert_exporter": "python",
      "pygments_lexer": "ipython3",
      "version": "3.12.1"
    }
  },
  "nbformat": 4,
  "nbformat_minor": 0
}
