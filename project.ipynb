{
  "cells": [
    {
      "cell_type": "markdown",
      "metadata": {
        "id": "DDELa7o5UXrY"
      },
      "source": [
        "# DX 704 Week 1 Project\n",
        "\n",
        "This week's project will build a portfolio risk and return model, and make investing recommendations for hypothetical clients.\n",
        "You will collect historical data, estimate returns and risks, construct efficient frontier portfolios, and sanity check the certainty of the maximum return portfolio."
      ]
    },
    {
      "cell_type": "markdown",
      "metadata": {
        "id": "P6SxppNu8p8k"
      },
      "source": [
        "The full project description and a template notebook are available on GitHub at the following link.\n",
        "\n",
        "https://github.com/bu-cds-dx704/dx704-project-01\n"
      ]
    },
    {
      "cell_type": "markdown",
      "metadata": {
        "id": "GmIaQcdCwObV"
      },
      "source": [
        "Feel free to use optimization tools or libraries (such as CVXOPT or scipy.optimize) to perform any calculations required for this mini project."
      ]
    },
    {
      "cell_type": "markdown",
      "metadata": {},
      "source": [
        "### Example Code\n",
        "\n",
        "You may find it helpful to refer to these GitHub repositories of Jupyter notebooks for example code.\n",
        "\n",
        "* https://github.com/bu-cds-omds/dx601-examples\n",
        "* https://github.com/bu-cds-omds/dx602-examples\n",
        "* https://github.com/bu-cds-omds/dx603-examples\n",
        "* https://github.com/bu-cds-omds/dx704-examples\n",
        "\n",
        "Any calculations demonstrated in code examples or videos may be found in these notebooks, and you are allowed to copy this example code in your homework answers."
      ]
    },
    {
      "cell_type": "markdown",
      "metadata": {
        "id": "pv3PslO0V5Lm"
      },
      "source": [
        "## Part 1: Collect Data\n",
        "\n",
        "Collect historical monthly price data for the last 24 months covering 6 different stocks.\n",
        "The data should cover 24 consecutive months including the last month that ended before this week's material was released on Blackboard.\n",
        "To be clear, if a month ends between the Blackboard release and submitting your project, you do not need to add that month.\n",
        "\n",
        "The six different stocks must include AAPL, SPY and TSLA.\n",
        "At least one of the remaining 3 tickers must start with the same letter as your last name (e.g. professor Considine could use COIN).\n",
        "This is to encourage diversity in what stocks you analyze; if you discuss this project with classmates, please make sure that you pick different tickers to differentiate your work.\n",
        "Do not pick stocks with fewer than 24 consecutive months of price data."
      ]
    },
    {
      "cell_type": "code",
      "execution_count": 41,
      "metadata": {},
      "outputs": [],
      "source": [
        "# Load libraries\n",
        "import pandas as pd\n",
        "import yfinance as yf\n",
        "import numpy as np\n",
        "import cvxpy as cp\n",
        "import matplotlib.pyplot as plt\n",
        "\n",
        "# Turn off scientific notation for pandas and numpy\n",
        "pd.options.display.float_format = \"{:.6f}\".format\n",
        "np.set_printoptions(suppress=True, formatter={\"float_kind\": \"{:.6f}\".format})"
      ]
    },
    {
      "cell_type": "code",
      "execution_count": 2,
      "metadata": {
        "id": "6pL-ppubxfvC"
      },
      "outputs": [],
      "source": [
        "# YOUR CHANGES HERE\n",
        "# Specify stocks\n",
        "tickers = [\"AAPL\", \"SPY\", \"TSLA\", \"PEP\", \"PYPL\", \"MSFT\"]\n",
        "\n",
        "# Specify monthd\n",
        "start_month = \"2023-09-01\"  \n",
        "end_month_exclusive = \"2025-09-01\" \n",
        "target_months = pd.period_range(\"2023-09\", \"2025-08\", freq=\"M\")  \n"
      ]
    },
    {
      "cell_type": "code",
      "execution_count": 3,
      "metadata": {},
      "outputs": [],
      "source": [
        "# Let's dowload daily data \n",
        "raw = yf.download(\n",
        "    tickers=tickers,\n",
        "    start=start_month,\n",
        "    end=end_month_exclusive,\n",
        "    auto_adjust=False,            \n",
        "    progress=False,\n",
        "    group_by=\"column\",           \n",
        ")"
      ]
    },
    {
      "cell_type": "code",
      "execution_count": 4,
      "metadata": {},
      "outputs": [
        {
          "data": {
            "text/html": [
              "<div>\n",
              "<style scoped>\n",
              "    .dataframe tbody tr th:only-of-type {\n",
              "        vertical-align: middle;\n",
              "    }\n",
              "\n",
              "    .dataframe tbody tr th {\n",
              "        vertical-align: top;\n",
              "    }\n",
              "\n",
              "    .dataframe thead tr th {\n",
              "        text-align: left;\n",
              "    }\n",
              "\n",
              "    .dataframe thead tr:last-of-type th {\n",
              "        text-align: right;\n",
              "    }\n",
              "</style>\n",
              "<table border=\"1\" class=\"dataframe\">\n",
              "  <thead>\n",
              "    <tr>\n",
              "      <th>Price</th>\n",
              "      <th colspan=\"6\" halign=\"left\">Adj Close</th>\n",
              "      <th colspan=\"4\" halign=\"left\">Close</th>\n",
              "      <th>...</th>\n",
              "      <th colspan=\"4\" halign=\"left\">Open</th>\n",
              "      <th colspan=\"6\" halign=\"left\">Volume</th>\n",
              "    </tr>\n",
              "    <tr>\n",
              "      <th>Ticker</th>\n",
              "      <th>AAPL</th>\n",
              "      <th>MSFT</th>\n",
              "      <th>PEP</th>\n",
              "      <th>PYPL</th>\n",
              "      <th>SPY</th>\n",
              "      <th>TSLA</th>\n",
              "      <th>AAPL</th>\n",
              "      <th>MSFT</th>\n",
              "      <th>PEP</th>\n",
              "      <th>PYPL</th>\n",
              "      <th>...</th>\n",
              "      <th>PEP</th>\n",
              "      <th>PYPL</th>\n",
              "      <th>SPY</th>\n",
              "      <th>TSLA</th>\n",
              "      <th>AAPL</th>\n",
              "      <th>MSFT</th>\n",
              "      <th>PEP</th>\n",
              "      <th>PYPL</th>\n",
              "      <th>SPY</th>\n",
              "      <th>TSLA</th>\n",
              "    </tr>\n",
              "    <tr>\n",
              "      <th>Date</th>\n",
              "      <th></th>\n",
              "      <th></th>\n",
              "      <th></th>\n",
              "      <th></th>\n",
              "      <th></th>\n",
              "      <th></th>\n",
              "      <th></th>\n",
              "      <th></th>\n",
              "      <th></th>\n",
              "      <th></th>\n",
              "      <th></th>\n",
              "      <th></th>\n",
              "      <th></th>\n",
              "      <th></th>\n",
              "      <th></th>\n",
              "      <th></th>\n",
              "      <th></th>\n",
              "      <th></th>\n",
              "      <th></th>\n",
              "      <th></th>\n",
              "      <th></th>\n",
              "    </tr>\n",
              "  </thead>\n",
              "  <tbody>\n",
              "    <tr>\n",
              "      <th>2023-09-01</th>\n",
              "      <td>187.622269</td>\n",
              "      <td>323.780670</td>\n",
              "      <td>163.701630</td>\n",
              "      <td>63.570000</td>\n",
              "      <td>439.492157</td>\n",
              "      <td>245.009995</td>\n",
              "      <td>189.460007</td>\n",
              "      <td>328.660004</td>\n",
              "      <td>175.320007</td>\n",
              "      <td>63.570000</td>\n",
              "      <td>...</td>\n",
              "      <td>178.729996</td>\n",
              "      <td>63.130001</td>\n",
              "      <td>453.170013</td>\n",
              "      <td>257.260010</td>\n",
              "      <td>45766500</td>\n",
              "      <td>14942000</td>\n",
              "      <td>4801400</td>\n",
              "      <td>11715200</td>\n",
              "      <td>58944100</td>\n",
              "      <td>132541600</td>\n",
              "    </tr>\n",
              "    <tr>\n",
              "      <th>2023-09-05</th>\n",
              "      <td>187.859909</td>\n",
              "      <td>328.597992</td>\n",
              "      <td>162.618500</td>\n",
              "      <td>63.740002</td>\n",
              "      <td>437.592712</td>\n",
              "      <td>256.489990</td>\n",
              "      <td>189.699997</td>\n",
              "      <td>333.549988</td>\n",
              "      <td>174.160004</td>\n",
              "      <td>63.740002</td>\n",
              "      <td>...</td>\n",
              "      <td>175.270004</td>\n",
              "      <td>63.380001</td>\n",
              "      <td>450.730011</td>\n",
              "      <td>245.000000</td>\n",
              "      <td>45280000</td>\n",
              "      <td>18553900</td>\n",
              "      <td>5081800</td>\n",
              "      <td>12739100</td>\n",
              "      <td>55166200</td>\n",
              "      <td>129469600</td>\n",
              "    </tr>\n",
              "    <tr>\n",
              "      <th>2023-09-06</th>\n",
              "      <td>181.135788</td>\n",
              "      <td>327.938019</td>\n",
              "      <td>163.150681</td>\n",
              "      <td>62.799999</td>\n",
              "      <td>434.651001</td>\n",
              "      <td>251.919998</td>\n",
              "      <td>182.910004</td>\n",
              "      <td>332.880005</td>\n",
              "      <td>174.729996</td>\n",
              "      <td>62.799999</td>\n",
              "      <td>...</td>\n",
              "      <td>174.919998</td>\n",
              "      <td>63.119999</td>\n",
              "      <td>448.399994</td>\n",
              "      <td>255.139999</td>\n",
              "      <td>81755800</td>\n",
              "      <td>17535800</td>\n",
              "      <td>5933800</td>\n",
              "      <td>13621300</td>\n",
              "      <td>70758500</td>\n",
              "      <td>116959800</td>\n",
              "    </tr>\n",
              "    <tr>\n",
              "      <th>2023-09-07</th>\n",
              "      <td>175.837677</td>\n",
              "      <td>325.012054</td>\n",
              "      <td>164.710022</td>\n",
              "      <td>61.650002</td>\n",
              "      <td>433.316498</td>\n",
              "      <td>251.490005</td>\n",
              "      <td>177.559998</td>\n",
              "      <td>329.910004</td>\n",
              "      <td>176.399994</td>\n",
              "      <td>61.650002</td>\n",
              "      <td>...</td>\n",
              "      <td>175.850006</td>\n",
              "      <td>62.000000</td>\n",
              "      <td>443.109985</td>\n",
              "      <td>245.070007</td>\n",
              "      <td>112488800</td>\n",
              "      <td>18381000</td>\n",
              "      <td>4934300</td>\n",
              "      <td>12712700</td>\n",
              "      <td>70355400</td>\n",
              "      <td>115312900</td>\n",
              "    </tr>\n",
              "    <tr>\n",
              "      <th>2023-09-08</th>\n",
              "      <td>176.451660</td>\n",
              "      <td>329.307312</td>\n",
              "      <td>164.588669</td>\n",
              "      <td>60.980000</td>\n",
              "      <td>433.969147</td>\n",
              "      <td>248.500000</td>\n",
              "      <td>178.179993</td>\n",
              "      <td>334.269989</td>\n",
              "      <td>176.270004</td>\n",
              "      <td>60.980000</td>\n",
              "      <td>...</td>\n",
              "      <td>175.809998</td>\n",
              "      <td>61.580002</td>\n",
              "      <td>444.899994</td>\n",
              "      <td>251.220001</td>\n",
              "      <td>65551300</td>\n",
              "      <td>19530100</td>\n",
              "      <td>2995000</td>\n",
              "      <td>15367400</td>\n",
              "      <td>61659700</td>\n",
              "      <td>118367700</td>\n",
              "    </tr>\n",
              "  </tbody>\n",
              "</table>\n",
              "<p>5 rows × 36 columns</p>\n",
              "</div>"
            ],
            "text/plain": [
              "Price        Adj Close                                                 \\\n",
              "Ticker            AAPL        MSFT         PEP       PYPL         SPY   \n",
              "Date                                                                    \n",
              "2023-09-01  187.622269  323.780670  163.701630  63.570000  439.492157   \n",
              "2023-09-05  187.859909  328.597992  162.618500  63.740002  437.592712   \n",
              "2023-09-06  181.135788  327.938019  163.150681  62.799999  434.651001   \n",
              "2023-09-07  175.837677  325.012054  164.710022  61.650002  433.316498   \n",
              "2023-09-08  176.451660  329.307312  164.588669  60.980000  433.969147   \n",
              "\n",
              "Price                        Close                                     ...  \\\n",
              "Ticker            TSLA        AAPL        MSFT         PEP       PYPL  ...   \n",
              "Date                                                                   ...   \n",
              "2023-09-01  245.009995  189.460007  328.660004  175.320007  63.570000  ...   \n",
              "2023-09-05  256.489990  189.699997  333.549988  174.160004  63.740002  ...   \n",
              "2023-09-06  251.919998  182.910004  332.880005  174.729996  62.799999  ...   \n",
              "2023-09-07  251.490005  177.559998  329.910004  176.399994  61.650002  ...   \n",
              "2023-09-08  248.500000  178.179993  334.269989  176.270004  60.980000  ...   \n",
              "\n",
              "Price             Open                                        Volume  \\\n",
              "Ticker             PEP       PYPL         SPY        TSLA       AAPL   \n",
              "Date                                                                   \n",
              "2023-09-01  178.729996  63.130001  453.170013  257.260010   45766500   \n",
              "2023-09-05  175.270004  63.380001  450.730011  245.000000   45280000   \n",
              "2023-09-06  174.919998  63.119999  448.399994  255.139999   81755800   \n",
              "2023-09-07  175.850006  62.000000  443.109985  245.070007  112488800   \n",
              "2023-09-08  175.809998  61.580002  444.899994  251.220001   65551300   \n",
              "\n",
              "Price                                                         \n",
              "Ticker          MSFT      PEP      PYPL       SPY       TSLA  \n",
              "Date                                                          \n",
              "2023-09-01  14942000  4801400  11715200  58944100  132541600  \n",
              "2023-09-05  18553900  5081800  12739100  55166200  129469600  \n",
              "2023-09-06  17535800  5933800  13621300  70758500  116959800  \n",
              "2023-09-07  18381000  4934300  12712700  70355400  115312900  \n",
              "2023-09-08  19530100  2995000  15367400  61659700  118367700  \n",
              "\n",
              "[5 rows x 36 columns]"
            ]
          },
          "execution_count": 4,
          "metadata": {},
          "output_type": "execute_result"
        }
      ],
      "source": [
        "# Take a look\n",
        "raw.head()"
      ]
    },
    {
      "cell_type": "code",
      "execution_count": 5,
      "metadata": {},
      "outputs": [
        {
          "data": {
            "text/plain": [
              "(500, 36)"
            ]
          },
          "execution_count": 5,
          "metadata": {},
          "output_type": "execute_result"
        }
      ],
      "source": [
        "raw.shape"
      ]
    },
    {
      "cell_type": "code",
      "execution_count": 6,
      "metadata": {},
      "outputs": [],
      "source": [
        "# Take only the adjusted price \n",
        "adj_close = raw[\"Adj Close\"]\n"
      ]
    },
    {
      "cell_type": "code",
      "execution_count": 7,
      "metadata": {},
      "outputs": [
        {
          "data": {
            "text/html": [
              "<div>\n",
              "<style scoped>\n",
              "    .dataframe tbody tr th:only-of-type {\n",
              "        vertical-align: middle;\n",
              "    }\n",
              "\n",
              "    .dataframe tbody tr th {\n",
              "        vertical-align: top;\n",
              "    }\n",
              "\n",
              "    .dataframe thead th {\n",
              "        text-align: right;\n",
              "    }\n",
              "</style>\n",
              "<table border=\"1\" class=\"dataframe\">\n",
              "  <thead>\n",
              "    <tr style=\"text-align: right;\">\n",
              "      <th>Ticker</th>\n",
              "      <th>AAPL</th>\n",
              "      <th>MSFT</th>\n",
              "      <th>PEP</th>\n",
              "      <th>PYPL</th>\n",
              "      <th>SPY</th>\n",
              "      <th>TSLA</th>\n",
              "    </tr>\n",
              "    <tr>\n",
              "      <th>Date</th>\n",
              "      <th></th>\n",
              "      <th></th>\n",
              "      <th></th>\n",
              "      <th></th>\n",
              "      <th></th>\n",
              "      <th></th>\n",
              "    </tr>\n",
              "  </thead>\n",
              "  <tbody>\n",
              "    <tr>\n",
              "      <th>2023-09-01</th>\n",
              "      <td>187.622269</td>\n",
              "      <td>323.780670</td>\n",
              "      <td>163.701630</td>\n",
              "      <td>63.570000</td>\n",
              "      <td>439.492157</td>\n",
              "      <td>245.009995</td>\n",
              "    </tr>\n",
              "    <tr>\n",
              "      <th>2023-09-05</th>\n",
              "      <td>187.859909</td>\n",
              "      <td>328.597992</td>\n",
              "      <td>162.618500</td>\n",
              "      <td>63.740002</td>\n",
              "      <td>437.592712</td>\n",
              "      <td>256.489990</td>\n",
              "    </tr>\n",
              "    <tr>\n",
              "      <th>2023-09-06</th>\n",
              "      <td>181.135788</td>\n",
              "      <td>327.938019</td>\n",
              "      <td>163.150681</td>\n",
              "      <td>62.799999</td>\n",
              "      <td>434.651001</td>\n",
              "      <td>251.919998</td>\n",
              "    </tr>\n",
              "    <tr>\n",
              "      <th>2023-09-07</th>\n",
              "      <td>175.837677</td>\n",
              "      <td>325.012054</td>\n",
              "      <td>164.710022</td>\n",
              "      <td>61.650002</td>\n",
              "      <td>433.316498</td>\n",
              "      <td>251.490005</td>\n",
              "    </tr>\n",
              "    <tr>\n",
              "      <th>2023-09-08</th>\n",
              "      <td>176.451660</td>\n",
              "      <td>329.307312</td>\n",
              "      <td>164.588669</td>\n",
              "      <td>60.980000</td>\n",
              "      <td>433.969147</td>\n",
              "      <td>248.500000</td>\n",
              "    </tr>\n",
              "  </tbody>\n",
              "</table>\n",
              "</div>"
            ],
            "text/plain": [
              "Ticker            AAPL        MSFT         PEP       PYPL         SPY  \\\n",
              "Date                                                                    \n",
              "2023-09-01  187.622269  323.780670  163.701630  63.570000  439.492157   \n",
              "2023-09-05  187.859909  328.597992  162.618500  63.740002  437.592712   \n",
              "2023-09-06  181.135788  327.938019  163.150681  62.799999  434.651001   \n",
              "2023-09-07  175.837677  325.012054  164.710022  61.650002  433.316498   \n",
              "2023-09-08  176.451660  329.307312  164.588669  60.980000  433.969147   \n",
              "\n",
              "Ticker            TSLA  \n",
              "Date                    \n",
              "2023-09-01  245.009995  \n",
              "2023-09-05  256.489990  \n",
              "2023-09-06  251.919998  \n",
              "2023-09-07  251.490005  \n",
              "2023-09-08  248.500000  "
            ]
          },
          "execution_count": 7,
          "metadata": {},
          "output_type": "execute_result"
        }
      ],
      "source": [
        "adj_close.head()"
      ]
    },
    {
      "cell_type": "code",
      "execution_count": 8,
      "metadata": {},
      "outputs": [
        {
          "data": {
            "text/plain": [
              "(500, 6)"
            ]
          },
          "execution_count": 8,
          "metadata": {},
          "output_type": "execute_result"
        }
      ],
      "source": [
        "adj_close.shape"
      ]
    },
    {
      "cell_type": "code",
      "execution_count": 9,
      "metadata": {},
      "outputs": [],
      "source": [
        "# Resample to month-end prices (last trading day each month)\n",
        "monthly_prices = adj_close.resample(\"ME\").last()"
      ]
    },
    {
      "cell_type": "code",
      "execution_count": 10,
      "metadata": {},
      "outputs": [
        {
          "data": {
            "text/html": [
              "<div>\n",
              "<style scoped>\n",
              "    .dataframe tbody tr th:only-of-type {\n",
              "        vertical-align: middle;\n",
              "    }\n",
              "\n",
              "    .dataframe tbody tr th {\n",
              "        vertical-align: top;\n",
              "    }\n",
              "\n",
              "    .dataframe thead th {\n",
              "        text-align: right;\n",
              "    }\n",
              "</style>\n",
              "<table border=\"1\" class=\"dataframe\">\n",
              "  <thead>\n",
              "    <tr style=\"text-align: right;\">\n",
              "      <th>Ticker</th>\n",
              "      <th>AAPL</th>\n",
              "      <th>MSFT</th>\n",
              "      <th>PEP</th>\n",
              "      <th>PYPL</th>\n",
              "      <th>SPY</th>\n",
              "      <th>TSLA</th>\n",
              "    </tr>\n",
              "    <tr>\n",
              "      <th>Date</th>\n",
              "      <th></th>\n",
              "      <th></th>\n",
              "      <th></th>\n",
              "      <th></th>\n",
              "      <th></th>\n",
              "      <th></th>\n",
              "    </tr>\n",
              "  </thead>\n",
              "  <tbody>\n",
              "    <tr>\n",
              "      <th>2023-09-30</th>\n",
              "      <td>169.549286</td>\n",
              "      <td>311.062347</td>\n",
              "      <td>158.211288</td>\n",
              "      <td>58.459999</td>\n",
              "      <td>417.865631</td>\n",
              "      <td>250.220001</td>\n",
              "    </tr>\n",
              "    <tr>\n",
              "      <th>2023-10-31</th>\n",
              "      <td>169.113556</td>\n",
              "      <td>333.090332</td>\n",
              "      <td>152.459488</td>\n",
              "      <td>51.799999</td>\n",
              "      <td>408.794373</td>\n",
              "      <td>200.839996</td>\n",
              "    </tr>\n",
              "    <tr>\n",
              "      <th>2023-11-30</th>\n",
              "      <td>188.355316</td>\n",
              "      <td>374.042267</td>\n",
              "      <td>158.335693</td>\n",
              "      <td>57.610001</td>\n",
              "      <td>446.135193</td>\n",
              "      <td>240.080002</td>\n",
              "    </tr>\n",
              "    <tr>\n",
              "      <th>2023-12-31</th>\n",
              "      <td>190.913666</td>\n",
              "      <td>371.209137</td>\n",
              "      <td>159.794022</td>\n",
              "      <td>61.410000</td>\n",
              "      <td>466.503693</td>\n",
              "      <td>248.479996</td>\n",
              "    </tr>\n",
              "    <tr>\n",
              "      <th>2024-01-31</th>\n",
              "      <td>182.851898</td>\n",
              "      <td>392.472443</td>\n",
              "      <td>158.561508</td>\n",
              "      <td>61.349998</td>\n",
              "      <td>473.933411</td>\n",
              "      <td>187.289993</td>\n",
              "    </tr>\n",
              "  </tbody>\n",
              "</table>\n",
              "</div>"
            ],
            "text/plain": [
              "Ticker            AAPL        MSFT         PEP       PYPL         SPY  \\\n",
              "Date                                                                    \n",
              "2023-09-30  169.549286  311.062347  158.211288  58.459999  417.865631   \n",
              "2023-10-31  169.113556  333.090332  152.459488  51.799999  408.794373   \n",
              "2023-11-30  188.355316  374.042267  158.335693  57.610001  446.135193   \n",
              "2023-12-31  190.913666  371.209137  159.794022  61.410000  466.503693   \n",
              "2024-01-31  182.851898  392.472443  158.561508  61.349998  473.933411   \n",
              "\n",
              "Ticker            TSLA  \n",
              "Date                    \n",
              "2023-09-30  250.220001  \n",
              "2023-10-31  200.839996  \n",
              "2023-11-30  240.080002  \n",
              "2023-12-31  248.479996  \n",
              "2024-01-31  187.289993  "
            ]
          },
          "execution_count": 10,
          "metadata": {},
          "output_type": "execute_result"
        }
      ],
      "source": [
        "monthly_prices.head()"
      ]
    },
    {
      "cell_type": "code",
      "execution_count": 11,
      "metadata": {},
      "outputs": [
        {
          "data": {
            "text/plain": [
              "(24, 6)"
            ]
          },
          "execution_count": 11,
          "metadata": {},
          "output_type": "execute_result"
        }
      ],
      "source": [
        "monthly_prices.shape"
      ]
    },
    {
      "cell_type": "code",
      "execution_count": 12,
      "metadata": {},
      "outputs": [
        {
          "name": "stdout",
          "output_type": "stream",
          "text": [
            "Ticker\n",
            "AAPL    False\n",
            "MSFT    False\n",
            "PEP     False\n",
            "PYPL    False\n",
            "SPY     False\n",
            "TSLA    False\n",
            "dtype: bool\n"
          ]
        }
      ],
      "source": [
        "# Check if all have 24 months of data\n",
        "print(monthly_prices.isna().any())"
      ]
    },
    {
      "cell_type": "code",
      "execution_count": 13,
      "metadata": {},
      "outputs": [
        {
          "data": {
            "text/html": [
              "<div>\n",
              "<style scoped>\n",
              "    .dataframe tbody tr th:only-of-type {\n",
              "        vertical-align: middle;\n",
              "    }\n",
              "\n",
              "    .dataframe tbody tr th {\n",
              "        vertical-align: top;\n",
              "    }\n",
              "\n",
              "    .dataframe thead th {\n",
              "        text-align: right;\n",
              "    }\n",
              "</style>\n",
              "<table border=\"1\" class=\"dataframe\">\n",
              "  <thead>\n",
              "    <tr style=\"text-align: right;\">\n",
              "      <th>Ticker</th>\n",
              "      <th>AAPL</th>\n",
              "      <th>MSFT</th>\n",
              "      <th>PEP</th>\n",
              "      <th>PYPL</th>\n",
              "      <th>SPY</th>\n",
              "      <th>TSLA</th>\n",
              "    </tr>\n",
              "    <tr>\n",
              "      <th>Date</th>\n",
              "      <th></th>\n",
              "      <th></th>\n",
              "      <th></th>\n",
              "      <th></th>\n",
              "      <th></th>\n",
              "      <th></th>\n",
              "    </tr>\n",
              "  </thead>\n",
              "  <tbody>\n",
              "    <tr>\n",
              "      <th>2023-09-30</th>\n",
              "      <td>169.549286</td>\n",
              "      <td>311.062347</td>\n",
              "      <td>158.211288</td>\n",
              "      <td>58.459999</td>\n",
              "      <td>417.865631</td>\n",
              "      <td>250.220001</td>\n",
              "    </tr>\n",
              "    <tr>\n",
              "      <th>2023-10-31</th>\n",
              "      <td>169.113556</td>\n",
              "      <td>333.090332</td>\n",
              "      <td>152.459488</td>\n",
              "      <td>51.799999</td>\n",
              "      <td>408.794373</td>\n",
              "      <td>200.839996</td>\n",
              "    </tr>\n",
              "    <tr>\n",
              "      <th>2023-11-30</th>\n",
              "      <td>188.355316</td>\n",
              "      <td>374.042267</td>\n",
              "      <td>158.335693</td>\n",
              "      <td>57.610001</td>\n",
              "      <td>446.135193</td>\n",
              "      <td>240.080002</td>\n",
              "    </tr>\n",
              "    <tr>\n",
              "      <th>2023-12-31</th>\n",
              "      <td>190.913666</td>\n",
              "      <td>371.209137</td>\n",
              "      <td>159.794022</td>\n",
              "      <td>61.410000</td>\n",
              "      <td>466.503693</td>\n",
              "      <td>248.479996</td>\n",
              "    </tr>\n",
              "    <tr>\n",
              "      <th>2024-01-31</th>\n",
              "      <td>182.851898</td>\n",
              "      <td>392.472443</td>\n",
              "      <td>158.561508</td>\n",
              "      <td>61.349998</td>\n",
              "      <td>473.933411</td>\n",
              "      <td>187.289993</td>\n",
              "    </tr>\n",
              "  </tbody>\n",
              "</table>\n",
              "</div>"
            ],
            "text/plain": [
              "Ticker            AAPL        MSFT         PEP       PYPL         SPY  \\\n",
              "Date                                                                    \n",
              "2023-09-30  169.549286  311.062347  158.211288  58.459999  417.865631   \n",
              "2023-10-31  169.113556  333.090332  152.459488  51.799999  408.794373   \n",
              "2023-11-30  188.355316  374.042267  158.335693  57.610001  446.135193   \n",
              "2023-12-31  190.913666  371.209137  159.794022  61.410000  466.503693   \n",
              "2024-01-31  182.851898  392.472443  158.561508  61.349998  473.933411   \n",
              "\n",
              "Ticker            TSLA  \n",
              "Date                    \n",
              "2023-09-30  250.220001  \n",
              "2023-10-31  200.839996  \n",
              "2023-11-30  240.080002  \n",
              "2023-12-31  248.479996  \n",
              "2024-01-31  187.289993  "
            ]
          },
          "execution_count": 13,
          "metadata": {},
          "output_type": "execute_result"
        }
      ],
      "source": [
        "monthly_prices.head()"
      ]
    },
    {
      "cell_type": "markdown",
      "metadata": {
        "id": "1uH9oDQ1rEQT"
      },
      "source": [
        "Save the data as a TSV file named \"historical_prices.tsv\" and include a header row with the column names \"date\" and the 6 stock ticker symbols.\n",
        "The date should be the last trading day of the month, so it may not be the last day of the month.\n",
        "For example, the last trading day of November 2024 was 2024-11-29.\n",
        "The remaining columns should contain the adjusted closing prices of the corresponding stock tickers on that day.\n"
      ]
    },
    {
      "cell_type": "code",
      "execution_count": 14,
      "metadata": {
        "id": "mHbwKHOhtQ3E"
      },
      "outputs": [],
      "source": [
        "# YOUR CHANGES HERE\n",
        "\n",
        "# Fix index\n",
        "monthly_prices = monthly_prices.reset_index()\n",
        "monthly_prices.rename(columns={\"Date\": \"date\"}, inplace=True)\n",
        "\n",
        "# Set 'date' as the index\n",
        "monthly_prices = monthly_prices.set_index(\"date\")\n",
        "\n",
        "# Remove the column index name (\"Ticker\")\n",
        "monthly_prices.columns.name = None\n",
        "\n",
        "# Make sure no index name sneaks in\n",
        "monthly_prices.index.name = \"date\"   \n",
        "\n",
        "# Save as TSV \n",
        "monthly_prices.to_csv(\"historical_prices.tsv\", sep=\"\\t\", index=False)"
      ]
    },
    {
      "cell_type": "code",
      "execution_count": 15,
      "metadata": {},
      "outputs": [
        {
          "data": {
            "text/html": [
              "<div>\n",
              "<style scoped>\n",
              "    .dataframe tbody tr th:only-of-type {\n",
              "        vertical-align: middle;\n",
              "    }\n",
              "\n",
              "    .dataframe tbody tr th {\n",
              "        vertical-align: top;\n",
              "    }\n",
              "\n",
              "    .dataframe thead th {\n",
              "        text-align: right;\n",
              "    }\n",
              "</style>\n",
              "<table border=\"1\" class=\"dataframe\">\n",
              "  <thead>\n",
              "    <tr style=\"text-align: right;\">\n",
              "      <th></th>\n",
              "      <th>AAPL</th>\n",
              "      <th>MSFT</th>\n",
              "      <th>PEP</th>\n",
              "      <th>PYPL</th>\n",
              "      <th>SPY</th>\n",
              "      <th>TSLA</th>\n",
              "    </tr>\n",
              "    <tr>\n",
              "      <th>date</th>\n",
              "      <th></th>\n",
              "      <th></th>\n",
              "      <th></th>\n",
              "      <th></th>\n",
              "      <th></th>\n",
              "      <th></th>\n",
              "    </tr>\n",
              "  </thead>\n",
              "  <tbody>\n",
              "    <tr>\n",
              "      <th>2023-09-30</th>\n",
              "      <td>169.549286</td>\n",
              "      <td>311.062347</td>\n",
              "      <td>158.211288</td>\n",
              "      <td>58.459999</td>\n",
              "      <td>417.865631</td>\n",
              "      <td>250.220001</td>\n",
              "    </tr>\n",
              "    <tr>\n",
              "      <th>2023-10-31</th>\n",
              "      <td>169.113556</td>\n",
              "      <td>333.090332</td>\n",
              "      <td>152.459488</td>\n",
              "      <td>51.799999</td>\n",
              "      <td>408.794373</td>\n",
              "      <td>200.839996</td>\n",
              "    </tr>\n",
              "    <tr>\n",
              "      <th>2023-11-30</th>\n",
              "      <td>188.355316</td>\n",
              "      <td>374.042267</td>\n",
              "      <td>158.335693</td>\n",
              "      <td>57.610001</td>\n",
              "      <td>446.135193</td>\n",
              "      <td>240.080002</td>\n",
              "    </tr>\n",
              "    <tr>\n",
              "      <th>2023-12-31</th>\n",
              "      <td>190.913666</td>\n",
              "      <td>371.209137</td>\n",
              "      <td>159.794022</td>\n",
              "      <td>61.410000</td>\n",
              "      <td>466.503693</td>\n",
              "      <td>248.479996</td>\n",
              "    </tr>\n",
              "    <tr>\n",
              "      <th>2024-01-31</th>\n",
              "      <td>182.851898</td>\n",
              "      <td>392.472443</td>\n",
              "      <td>158.561508</td>\n",
              "      <td>61.349998</td>\n",
              "      <td>473.933411</td>\n",
              "      <td>187.289993</td>\n",
              "    </tr>\n",
              "  </tbody>\n",
              "</table>\n",
              "</div>"
            ],
            "text/plain": [
              "                  AAPL        MSFT         PEP       PYPL         SPY  \\\n",
              "date                                                                    \n",
              "2023-09-30  169.549286  311.062347  158.211288  58.459999  417.865631   \n",
              "2023-10-31  169.113556  333.090332  152.459488  51.799999  408.794373   \n",
              "2023-11-30  188.355316  374.042267  158.335693  57.610001  446.135193   \n",
              "2023-12-31  190.913666  371.209137  159.794022  61.410000  466.503693   \n",
              "2024-01-31  182.851898  392.472443  158.561508  61.349998  473.933411   \n",
              "\n",
              "                  TSLA  \n",
              "date                    \n",
              "2023-09-30  250.220001  \n",
              "2023-10-31  200.839996  \n",
              "2023-11-30  240.080002  \n",
              "2023-12-31  248.479996  \n",
              "2024-01-31  187.289993  "
            ]
          },
          "execution_count": 15,
          "metadata": {},
          "output_type": "execute_result"
        }
      ],
      "source": [
        "monthly_prices.head()"
      ]
    },
    {
      "cell_type": "markdown",
      "metadata": {
        "id": "2hp0yuXPtT9V"
      },
      "source": [
        "Submit \"historical_prices.tsv\" in Gradescope."
      ]
    },
    {
      "cell_type": "markdown",
      "metadata": {
        "id": "7XdNVWWirUd5"
      },
      "source": [
        "## Part 2: Calculate Historical Asset Returns\n",
        "\n",
        "Calculate the historical asset returns based on the price data that you previously collected."
      ]
    },
    {
      "cell_type": "code",
      "execution_count": 16,
      "metadata": {
        "id": "aL-kVua2xex-"
      },
      "outputs": [
        {
          "data": {
            "text/plain": [
              "PEP    -0.002383\n",
              "PYPL    0.011472\n",
              "AAPL    0.015442\n",
              "SPY     0.019666\n",
              "MSFT    0.023318\n",
              "TSLA    0.025313\n",
              "Name: return, dtype: float64"
            ]
          },
          "execution_count": 16,
          "metadata": {},
          "output_type": "execute_result"
        }
      ],
      "source": [
        "# YOUR CHANGES HERE\n",
        "\n",
        "historical_returns = monthly_prices.pct_change().dropna()\n",
        "estimated_returns = historical_returns.mean().rename(\"return\")\n",
        "estimated_returns.sort_values()"
      ]
    },
    {
      "cell_type": "markdown",
      "metadata": {
        "id": "OjhEYCWOrIu3"
      },
      "source": [
        "Save the data as a TSV file named \"historical_returns.tsv\" and include a header row with the column names \"date\" and the 6 stock ticker symbols.\n",
        "Each row should have the date at the end of the month and the corresponding *relative* price changes.\n",
        "For example, if the previous price was \\$100 and the new price is \\$110, the return value should be 0.10.\n",
        "There should only be 23 rows of data in this file, since they are computed as the differences of 24 prices."
      ]
    },
    {
      "cell_type": "code",
      "execution_count": 17,
      "metadata": {
        "id": "cN-7q9QvvyKG"
      },
      "outputs": [],
      "source": [
        "# YOUR CHANGES HERE\n",
        "\n",
        "# Reset index so date becomes a column\n",
        "historical_returns = historical_returns.reset_index()\n",
        "\n",
        "# Save as TSV with header row (date + tickers)\n",
        "historical_returns.to_csv(\"historical_returns.tsv\", sep=\"\\t\", index=False)"
      ]
    },
    {
      "cell_type": "code",
      "execution_count": 18,
      "metadata": {},
      "outputs": [
        {
          "data": {
            "text/html": [
              "<div>\n",
              "<style scoped>\n",
              "    .dataframe tbody tr th:only-of-type {\n",
              "        vertical-align: middle;\n",
              "    }\n",
              "\n",
              "    .dataframe tbody tr th {\n",
              "        vertical-align: top;\n",
              "    }\n",
              "\n",
              "    .dataframe thead th {\n",
              "        text-align: right;\n",
              "    }\n",
              "</style>\n",
              "<table border=\"1\" class=\"dataframe\">\n",
              "  <thead>\n",
              "    <tr style=\"text-align: right;\">\n",
              "      <th></th>\n",
              "      <th>date</th>\n",
              "      <th>AAPL</th>\n",
              "      <th>MSFT</th>\n",
              "      <th>PEP</th>\n",
              "      <th>PYPL</th>\n",
              "      <th>SPY</th>\n",
              "      <th>TSLA</th>\n",
              "    </tr>\n",
              "  </thead>\n",
              "  <tbody>\n",
              "    <tr>\n",
              "      <th>0</th>\n",
              "      <td>2023-10-31</td>\n",
              "      <td>-0.002570</td>\n",
              "      <td>0.070815</td>\n",
              "      <td>-0.036355</td>\n",
              "      <td>-0.113924</td>\n",
              "      <td>-0.021709</td>\n",
              "      <td>-0.197346</td>\n",
              "    </tr>\n",
              "    <tr>\n",
              "      <th>1</th>\n",
              "      <td>2023-11-30</td>\n",
              "      <td>0.113780</td>\n",
              "      <td>0.122945</td>\n",
              "      <td>0.038543</td>\n",
              "      <td>0.112162</td>\n",
              "      <td>0.091344</td>\n",
              "      <td>0.195379</td>\n",
              "    </tr>\n",
              "    <tr>\n",
              "      <th>2</th>\n",
              "      <td>2023-12-31</td>\n",
              "      <td>0.013583</td>\n",
              "      <td>-0.007574</td>\n",
              "      <td>0.009210</td>\n",
              "      <td>0.065961</td>\n",
              "      <td>0.045655</td>\n",
              "      <td>0.034988</td>\n",
              "    </tr>\n",
              "    <tr>\n",
              "      <th>3</th>\n",
              "      <td>2024-01-31</td>\n",
              "      <td>-0.042227</td>\n",
              "      <td>0.057281</td>\n",
              "      <td>-0.007713</td>\n",
              "      <td>-0.000977</td>\n",
              "      <td>0.015926</td>\n",
              "      <td>-0.246257</td>\n",
              "    </tr>\n",
              "    <tr>\n",
              "      <th>4</th>\n",
              "      <td>2024-02-29</td>\n",
              "      <td>-0.018543</td>\n",
              "      <td>0.042318</td>\n",
              "      <td>-0.011441</td>\n",
              "      <td>-0.016463</td>\n",
              "      <td>0.052187</td>\n",
              "      <td>0.077901</td>\n",
              "    </tr>\n",
              "  </tbody>\n",
              "</table>\n",
              "</div>"
            ],
            "text/plain": [
              "        date      AAPL      MSFT       PEP      PYPL       SPY      TSLA\n",
              "0 2023-10-31 -0.002570  0.070815 -0.036355 -0.113924 -0.021709 -0.197346\n",
              "1 2023-11-30  0.113780  0.122945  0.038543  0.112162  0.091344  0.195379\n",
              "2 2023-12-31  0.013583 -0.007574  0.009210  0.065961  0.045655  0.034988\n",
              "3 2024-01-31 -0.042227  0.057281 -0.007713 -0.000977  0.015926 -0.246257\n",
              "4 2024-02-29 -0.018543  0.042318 -0.011441 -0.016463  0.052187  0.077901"
            ]
          },
          "execution_count": 18,
          "metadata": {},
          "output_type": "execute_result"
        }
      ],
      "source": [
        "historical_returns.head()"
      ]
    },
    {
      "cell_type": "code",
      "execution_count": 19,
      "metadata": {},
      "outputs": [
        {
          "data": {
            "text/plain": [
              "(23, 7)"
            ]
          },
          "execution_count": 19,
          "metadata": {},
          "output_type": "execute_result"
        }
      ],
      "source": [
        "historical_returns.shape"
      ]
    },
    {
      "cell_type": "markdown",
      "metadata": {
        "id": "vyBtnCTUtfRq"
      },
      "source": [
        "Submit \"historical_returns.tsv\" in Gradescope."
      ]
    },
    {
      "cell_type": "markdown",
      "metadata": {
        "id": "MoCkf4ouV9IA"
      },
      "source": [
        "## Part 3: Estimate Returns\n",
        "\n",
        "Estimate the expected returns for each asset using the previously calculated return data.\n",
        "Just compute the average (mean) return for each asset over your data set; do not use other estimators that have been mentioned.\n",
        "This will serve as your estimate of expected return for each asset."
      ]
    },
    {
      "cell_type": "code",
      "execution_count": 20,
      "metadata": {
        "id": "N2iDEhSRxd2n"
      },
      "outputs": [
        {
          "name": "stdout",
          "output_type": "stream",
          "text": [
            "AAPL    0.015442\n",
            "MSFT    0.023318\n",
            "PEP    -0.002383\n",
            "PYPL    0.011472\n",
            "SPY     0.019666\n",
            "TSLA    0.025313\n",
            "Name: return, dtype: float64\n"
          ]
        }
      ],
      "source": [
        "# YOUR CHANGES HERE\n",
        "# We calculated estimated returns before to not have datetime column\n",
        "print(estimated_returns)"
      ]
    },
    {
      "cell_type": "code",
      "execution_count": 21,
      "metadata": {},
      "outputs": [
        {
          "data": {
            "text/plain": [
              "(6,)"
            ]
          },
          "execution_count": 21,
          "metadata": {},
          "output_type": "execute_result"
        }
      ],
      "source": [
        "estimated_returns.shape"
      ]
    },
    {
      "cell_type": "markdown",
      "metadata": {
        "id": "e5YTEwoarM2M"
      },
      "source": [
        "Save the estimated returns in a TSV file named \"estimated_returns.tsv\" and include a header row with the column names \"asset\" and \"estimated_return\"."
      ]
    },
    {
      "cell_type": "code",
      "execution_count": 22,
      "metadata": {
        "id": "At71YDpwvwUw"
      },
      "outputs": [],
      "source": [
        "# YOUR CHANGES HERE\n",
        "\n",
        "estimated_returns = estimated_returns.reset_index()\n",
        "estimated_returns.rename(columns={\"index\": \"asset\"}, inplace=True)\n",
        "\n",
        "# Save to TSV\n",
        "estimated_returns.to_csv(\"estimated_returns.tsv\", sep=\"\\t\", index=False)"
      ]
    },
    {
      "cell_type": "code",
      "execution_count": 23,
      "metadata": {},
      "outputs": [
        {
          "data": {
            "text/html": [
              "<div>\n",
              "<style scoped>\n",
              "    .dataframe tbody tr th:only-of-type {\n",
              "        vertical-align: middle;\n",
              "    }\n",
              "\n",
              "    .dataframe tbody tr th {\n",
              "        vertical-align: top;\n",
              "    }\n",
              "\n",
              "    .dataframe thead th {\n",
              "        text-align: right;\n",
              "    }\n",
              "</style>\n",
              "<table border=\"1\" class=\"dataframe\">\n",
              "  <thead>\n",
              "    <tr style=\"text-align: right;\">\n",
              "      <th></th>\n",
              "      <th>asset</th>\n",
              "      <th>return</th>\n",
              "    </tr>\n",
              "  </thead>\n",
              "  <tbody>\n",
              "    <tr>\n",
              "      <th>0</th>\n",
              "      <td>AAPL</td>\n",
              "      <td>0.015442</td>\n",
              "    </tr>\n",
              "    <tr>\n",
              "      <th>1</th>\n",
              "      <td>MSFT</td>\n",
              "      <td>0.023318</td>\n",
              "    </tr>\n",
              "    <tr>\n",
              "      <th>2</th>\n",
              "      <td>PEP</td>\n",
              "      <td>-0.002383</td>\n",
              "    </tr>\n",
              "    <tr>\n",
              "      <th>3</th>\n",
              "      <td>PYPL</td>\n",
              "      <td>0.011472</td>\n",
              "    </tr>\n",
              "    <tr>\n",
              "      <th>4</th>\n",
              "      <td>SPY</td>\n",
              "      <td>0.019666</td>\n",
              "    </tr>\n",
              "    <tr>\n",
              "      <th>5</th>\n",
              "      <td>TSLA</td>\n",
              "      <td>0.025313</td>\n",
              "    </tr>\n",
              "  </tbody>\n",
              "</table>\n",
              "</div>"
            ],
            "text/plain": [
              "  asset    return\n",
              "0  AAPL  0.015442\n",
              "1  MSFT  0.023318\n",
              "2   PEP -0.002383\n",
              "3  PYPL  0.011472\n",
              "4   SPY  0.019666\n",
              "5  TSLA  0.025313"
            ]
          },
          "execution_count": 23,
          "metadata": {},
          "output_type": "execute_result"
        }
      ],
      "source": [
        "estimated_returns.head(10)"
      ]
    },
    {
      "cell_type": "markdown",
      "metadata": {
        "id": "cjfnF-2Wtj6r"
      },
      "source": [
        "Submit \"estimated_returns.tsv\" in Gradescope."
      ]
    },
    {
      "cell_type": "markdown",
      "metadata": {
        "id": "VTuIqrkAWXVL"
      },
      "source": [
        "## Part 4: Estimate Risk\n",
        "\n",
        "Estimate the covariance matrix for the asset returns to understand how the assets move together."
      ]
    },
    {
      "cell_type": "code",
      "execution_count": 24,
      "metadata": {
        "id": "RFZfIkTMxcv7"
      },
      "outputs": [],
      "source": [
        "# YOUR CHANGES HERE\n",
        "# Covariance matrix:\n",
        "returns_only = historical_returns.drop(columns=[\"date\"], errors=\"ignore\")\n",
        "\n",
        "estimated_covariance = returns_only.cov()\n",
        "estimated_variances = returns_only.var()"
      ]
    },
    {
      "cell_type": "code",
      "execution_count": 25,
      "metadata": {},
      "outputs": [
        {
          "data": {
            "text/plain": [
              "AAPL    0.003627\n",
              "MSFT    0.004044\n",
              "PEP     0.001549\n",
              "PYPL    0.007074\n",
              "SPY     0.001292\n",
              "TSLA    0.026703\n",
              "dtype: float64"
            ]
          },
          "execution_count": 25,
          "metadata": {},
          "output_type": "execute_result"
        }
      ],
      "source": [
        "estimated_variances"
      ]
    },
    {
      "cell_type": "code",
      "execution_count": 26,
      "metadata": {},
      "outputs": [
        {
          "data": {
            "text/html": [
              "<div>\n",
              "<style scoped>\n",
              "    .dataframe tbody tr th:only-of-type {\n",
              "        vertical-align: middle;\n",
              "    }\n",
              "\n",
              "    .dataframe tbody tr th {\n",
              "        vertical-align: top;\n",
              "    }\n",
              "\n",
              "    .dataframe thead th {\n",
              "        text-align: right;\n",
              "    }\n",
              "</style>\n",
              "<table border=\"1\" class=\"dataframe\">\n",
              "  <thead>\n",
              "    <tr style=\"text-align: right;\">\n",
              "      <th></th>\n",
              "      <th>AAPL</th>\n",
              "      <th>MSFT</th>\n",
              "      <th>PEP</th>\n",
              "      <th>PYPL</th>\n",
              "      <th>SPY</th>\n",
              "      <th>TSLA</th>\n",
              "    </tr>\n",
              "  </thead>\n",
              "  <tbody>\n",
              "    <tr>\n",
              "      <th>AAPL</th>\n",
              "      <td>0.003627</td>\n",
              "      <td>0.000389</td>\n",
              "      <td>0.000640</td>\n",
              "      <td>0.000048</td>\n",
              "      <td>0.000832</td>\n",
              "      <td>0.003254</td>\n",
              "    </tr>\n",
              "    <tr>\n",
              "      <th>MSFT</th>\n",
              "      <td>0.000389</td>\n",
              "      <td>0.004044</td>\n",
              "      <td>-0.000580</td>\n",
              "      <td>0.000332</td>\n",
              "      <td>0.001488</td>\n",
              "      <td>0.002217</td>\n",
              "    </tr>\n",
              "    <tr>\n",
              "      <th>PEP</th>\n",
              "      <td>0.000640</td>\n",
              "      <td>-0.000580</td>\n",
              "      <td>0.001549</td>\n",
              "      <td>0.000862</td>\n",
              "      <td>0.000381</td>\n",
              "      <td>-0.000827</td>\n",
              "    </tr>\n",
              "    <tr>\n",
              "      <th>PYPL</th>\n",
              "      <td>0.000048</td>\n",
              "      <td>0.000332</td>\n",
              "      <td>0.000862</td>\n",
              "      <td>0.007074</td>\n",
              "      <td>0.001437</td>\n",
              "      <td>0.007404</td>\n",
              "    </tr>\n",
              "    <tr>\n",
              "      <th>SPY</th>\n",
              "      <td>0.000832</td>\n",
              "      <td>0.001488</td>\n",
              "      <td>0.000381</td>\n",
              "      <td>0.001437</td>\n",
              "      <td>0.001292</td>\n",
              "      <td>0.002421</td>\n",
              "    </tr>\n",
              "    <tr>\n",
              "      <th>TSLA</th>\n",
              "      <td>0.003254</td>\n",
              "      <td>0.002217</td>\n",
              "      <td>-0.000827</td>\n",
              "      <td>0.007404</td>\n",
              "      <td>0.002421</td>\n",
              "      <td>0.026703</td>\n",
              "    </tr>\n",
              "  </tbody>\n",
              "</table>\n",
              "</div>"
            ],
            "text/plain": [
              "          AAPL      MSFT       PEP      PYPL       SPY      TSLA\n",
              "AAPL  0.003627  0.000389  0.000640  0.000048  0.000832  0.003254\n",
              "MSFT  0.000389  0.004044 -0.000580  0.000332  0.001488  0.002217\n",
              "PEP   0.000640 -0.000580  0.001549  0.000862  0.000381 -0.000827\n",
              "PYPL  0.000048  0.000332  0.000862  0.007074  0.001437  0.007404\n",
              "SPY   0.000832  0.001488  0.000381  0.001437  0.001292  0.002421\n",
              "TSLA  0.003254  0.002217 -0.000827  0.007404  0.002421  0.026703"
            ]
          },
          "execution_count": 26,
          "metadata": {},
          "output_type": "execute_result"
        }
      ],
      "source": [
        "estimated_covariance"
      ]
    },
    {
      "cell_type": "markdown",
      "metadata": {
        "id": "sOmn4s_yr5qn"
      },
      "source": [
        "Save the estimated covariances to a TSV file named \"estimated_covariance.tsv\".\n",
        "The header row should have a blank column name followed by the names of the assets.\n",
        "Each data row should start with the name of an asset for that row, and be followed by the individual covariances corresponding to that row and column's assets.\n",
        "(This is the format of pandas's `to_csv` method with `sep=\"\\t\"` when used on a covariance matrix as computed in the examples.)"
      ]
    },
    {
      "cell_type": "code",
      "execution_count": 27,
      "metadata": {
        "id": "Te-NPQxSvuXm"
      },
      "outputs": [],
      "source": [
        "# YOUR CHANGES HERE\n",
        "\n",
        "estimated_covariance.to_csv(\"estimated_covariance.tsv\", sep=\"\\t\")"
      ]
    },
    {
      "cell_type": "markdown",
      "metadata": {
        "id": "lS9vek0btoK6"
      },
      "source": [
        "Submit \"estimated_covariance.tsv\" in Gradescope."
      ]
    },
    {
      "cell_type": "markdown",
      "metadata": {
        "id": "C8rC5Eo3sEme"
      },
      "source": [
        "## Part 5: Construct the Maximum Return Portfolio\n",
        "\n",
        "Compute the maximum return portfolio based on your previously estimated risks and returns."
      ]
    },
    {
      "cell_type": "code",
      "execution_count": null,
      "metadata": {},
      "outputs": [
        {
          "name": "stdout",
          "output_type": "stream",
          "text": [
            "Maximum-return portfolio (weights):\n",
            "  AAPL: 0.0000\n",
            "  MSFT: 0.0000\n",
            "  PEP: 0.0000\n",
            "  PYPL: 0.0000\n",
            "  SPY: 0.0000\n",
            "  TSLA: 1.0000\n",
            "\n",
            "Expected monthly return: 0.025313\n",
            "Monthly variance:        0.026703\n",
            "Monthly std. dev.:       0.163412\n"
          ]
        }
      ],
      "source": [
        "# Convert estimated_returns to Series \n",
        "estimated_returns = (\n",
        "    estimated_returns\n",
        "    .set_index(\"asset\")[\"return\"]\n",
        "    .astype(float)\n",
        ")\n",
        "\n",
        "# Align covariance to the same ticker order \n",
        "estimated_covariance = (\n",
        "    estimated_covariance\n",
        "    .reindex(index=estimated_returns.index, columns=estimated_returns.index)\n",
        "    .astype(float)\n",
        ")\n",
        "\n",
        "# Numpy arrays for cvxpy\n",
        "mu = estimated_returns.values.astype(float)                  \n",
        "Sigma = estimated_covariance.values.astype(float)           \n",
        "n = len(mu)\n",
        "\n",
        "# Max-return portfolio \n",
        "x_max = cp.Variable(n)\n",
        "prob_max = cp.Problem(cp.Maximize(mu @ x_max),\n",
        "                      [x_max >= 0,\n",
        "                       cp.sum(x_max) == 1])\n",
        "_ = prob_max.solve()\n",
        "\n",
        "w_max = np.array(x_max.value, dtype=float)\n",
        "ret_max = float(mu @ w_max)\n",
        "var_max = float(w_max @ Sigma @ w_max)\n",
        "std_max = float(np.sqrt(var_max))\n",
        "\n",
        "\n",
        "print(\"Maximum-return portfolio (weights):\")\n",
        "for asset, w in zip(estimated_returns.index.tolist(), w_max):\n",
        "    print(f\"  {asset}: {w:.4f}\")\n",
        "print(f\"\\nExpected monthly return: {ret_max:.6f}\")\n",
        "print(f\"Monthly variance:        {var_max:.6f}\")\n",
        "print(f\"Monthly std. dev.:       {std_max:.6f}\")\n"
      ]
    },
    {
      "cell_type": "markdown",
      "metadata": {
        "id": "jjPOxui5sLTD"
      },
      "source": [
        "Save the maximum return portfolio in a TSV file named \"maximum_return.tsv\".\n",
        "The header row should have two columns, \"asset\" and \"allocation\".\n",
        "The allocation values should sum up to one.\n"
      ]
    },
    {
      "cell_type": "code",
      "execution_count": 32,
      "metadata": {
        "id": "xLl_j8z1vtiT"
      },
      "outputs": [],
      "source": [
        "# YOUR CHANGES HERE\n",
        "\n",
        "# Build a DataFrame with asset and allocation\n",
        "max_return_portfolio = (\n",
        "    pd.Series(w_max, index=estimated_returns.index, name=\"allocation\")\n",
        "    .rename_axis(\"asset\")\n",
        "    .reset_index()\n",
        ")\n",
        "\n",
        "# Save to TSV\n",
        "max_return_portfolio.to_csv(\"maximum_return.tsv\", sep=\"\\t\", index=False)\n",
        "\n"
      ]
    },
    {
      "cell_type": "code",
      "execution_count": 33,
      "metadata": {},
      "outputs": [
        {
          "data": {
            "text/html": [
              "<div>\n",
              "<style scoped>\n",
              "    .dataframe tbody tr th:only-of-type {\n",
              "        vertical-align: middle;\n",
              "    }\n",
              "\n",
              "    .dataframe tbody tr th {\n",
              "        vertical-align: top;\n",
              "    }\n",
              "\n",
              "    .dataframe thead th {\n",
              "        text-align: right;\n",
              "    }\n",
              "</style>\n",
              "<table border=\"1\" class=\"dataframe\">\n",
              "  <thead>\n",
              "    <tr style=\"text-align: right;\">\n",
              "      <th></th>\n",
              "      <th>asset</th>\n",
              "      <th>allocation</th>\n",
              "    </tr>\n",
              "  </thead>\n",
              "  <tbody>\n",
              "    <tr>\n",
              "      <th>0</th>\n",
              "      <td>AAPL</td>\n",
              "      <td>0.000000</td>\n",
              "    </tr>\n",
              "    <tr>\n",
              "      <th>1</th>\n",
              "      <td>MSFT</td>\n",
              "      <td>0.000000</td>\n",
              "    </tr>\n",
              "    <tr>\n",
              "      <th>2</th>\n",
              "      <td>PEP</td>\n",
              "      <td>0.000000</td>\n",
              "    </tr>\n",
              "    <tr>\n",
              "      <th>3</th>\n",
              "      <td>PYPL</td>\n",
              "      <td>0.000000</td>\n",
              "    </tr>\n",
              "    <tr>\n",
              "      <th>4</th>\n",
              "      <td>SPY</td>\n",
              "      <td>0.000000</td>\n",
              "    </tr>\n",
              "    <tr>\n",
              "      <th>5</th>\n",
              "      <td>TSLA</td>\n",
              "      <td>1.000000</td>\n",
              "    </tr>\n",
              "  </tbody>\n",
              "</table>\n",
              "</div>"
            ],
            "text/plain": [
              "  asset  allocation\n",
              "0  AAPL    0.000000\n",
              "1  MSFT    0.000000\n",
              "2   PEP    0.000000\n",
              "3  PYPL    0.000000\n",
              "4   SPY    0.000000\n",
              "5  TSLA    1.000000"
            ]
          },
          "execution_count": 33,
          "metadata": {},
          "output_type": "execute_result"
        }
      ],
      "source": [
        "max_return_portfolio"
      ]
    },
    {
      "cell_type": "markdown",
      "metadata": {
        "id": "4bm3xrxptqJ2"
      },
      "source": [
        "Submit \"maximum_return.tsv\" in Gradescope."
      ]
    },
    {
      "cell_type": "markdown",
      "metadata": {
        "id": "r_QxQ5NpsL-c"
      },
      "source": [
        "## Part 6: Construct the Minimum Risk Portfolio\n",
        "\n",
        "Compute the minimum risk portfolio based on your previously estimated risks."
      ]
    },
    {
      "cell_type": "code",
      "execution_count": null,
      "metadata": {
        "id": "daHSqhv9xbIF"
      },
      "outputs": [
        {
          "name": "stdout",
          "output_type": "stream",
          "text": [
            "Minimum-risk (GMV) portfolio weights:\n",
            "  AAPL: 0.060318\n",
            "  MSFT: 0.194669\n",
            "  PEP: 0.531236\n",
            "  PYPL: 0.000000\n",
            "  SPY: 0.208909\n",
            "  TSLA: 0.004867\n",
            "\n",
            "GMV variance:  0.000824\n",
            "GMV st. dev.:  0.028707\n",
            "GMV exp. ret.: 0.008436\n"
          ]
        }
      ],
      "source": [
        "# YOUR CHANGES HERE\n",
        "\n",
        "# estimated_covariance\n",
        "assets = estimated_covariance.index.tolist()\n",
        "Sigma = (\n",
        "    estimated_covariance\n",
        "    .reindex(index=assets, columns=assets)   # just to be explicit\n",
        "    .astype(float)\n",
        "    .values\n",
        ")\n",
        "\n",
        "\n",
        "if isinstance(estimated_returns, pd.DataFrame):\n",
        "    # handle the case where it's a 2-col DF (asset, return)\n",
        "    if {\"asset\", \"return\"}.issubset(estimated_returns.columns):\n",
        "        mu_s = estimated_returns.set_index(\"asset\")[\"return\"].astype(float).reindex(assets)\n",
        "    else:\n",
        "        mu_s = estimated_returns.squeeze(\"columns\").astype(float).reindex(assets)\n",
        "else:\n",
        "    mu_s = pd.Series(estimated_returns, index=getattr(estimated_returns, \"index\", assets), dtype=float).reindex(assets)\n",
        "\n",
        "mu = mu_s.values.astype(float)  \n",
        "\n",
        "\n",
        "n = len(assets)\n",
        "x_min = cp.Variable(n)\n",
        "prob_min = cp.Problem(\n",
        "    cp.Minimize(cp.quad_form(x_min, Sigma)),\n",
        "    [x_min >= 0, cp.sum(x_min) == 1]\n",
        ")\n",
        "var_min = prob_min.solve()\n",
        "\n",
        "w_min = np.array(x_min.value, dtype=float)\n",
        "std_min = float(np.sqrt(var_min))\n",
        "ret_min = float(mu @ w_min)  \n",
        "\n",
        "\n",
        "print(\"Minimum-risk (GMV) portfolio weights:\")\n",
        "for a, w in zip(assets, w_min):\n",
        "    print(f\"  {a}: {w:.6f}\")\n",
        "print(f\"\\nGMV variance:  {var_min:.6f}\")\n",
        "print(f\"GMV st. dev.:  {std_min:.6f}\")\n",
        "print(f\"GMV exp. ret.: {ret_min:.6f}\") "
      ]
    },
    {
      "cell_type": "markdown",
      "metadata": {
        "id": "wzldkIPxsQor"
      },
      "source": [
        "Save the minimum risk portfolio in a TSV file named \"minimum_risk.tsv\".\n",
        "The header row should have two columns, \"asset\" and \"allocation\".\n",
        "The allocation values should sum up to one.\n"
      ]
    },
    {
      "cell_type": "code",
      "execution_count": 37,
      "metadata": {
        "id": "YRXccAflvrBZ"
      },
      "outputs": [],
      "source": [
        "# YOUR CHANGES HERE\n",
        "\n",
        "min_risk_df = pd.DataFrame({\n",
        "    \"asset\": assets,          \n",
        "    \"allocation\": w_min       \n",
        "})\n",
        "\n",
        "# Allocations sum to 1\n",
        "assert abs(min_risk_df[\"allocation\"].sum() - 1.0) < 1e-8, \"Weights do not sum to 1!\"\n",
        "\n",
        "# Save to TSV\n",
        "min_risk_df.to_csv(\"minimum_risk.tsv\", sep=\"\\t\", index=False, float_format=\"%.6f\")"
      ]
    },
    {
      "cell_type": "code",
      "execution_count": 38,
      "metadata": {},
      "outputs": [
        {
          "data": {
            "text/html": [
              "<div>\n",
              "<style scoped>\n",
              "    .dataframe tbody tr th:only-of-type {\n",
              "        vertical-align: middle;\n",
              "    }\n",
              "\n",
              "    .dataframe tbody tr th {\n",
              "        vertical-align: top;\n",
              "    }\n",
              "\n",
              "    .dataframe thead th {\n",
              "        text-align: right;\n",
              "    }\n",
              "</style>\n",
              "<table border=\"1\" class=\"dataframe\">\n",
              "  <thead>\n",
              "    <tr style=\"text-align: right;\">\n",
              "      <th></th>\n",
              "      <th>asset</th>\n",
              "      <th>allocation</th>\n",
              "    </tr>\n",
              "  </thead>\n",
              "  <tbody>\n",
              "    <tr>\n",
              "      <th>0</th>\n",
              "      <td>AAPL</td>\n",
              "      <td>0.060318</td>\n",
              "    </tr>\n",
              "    <tr>\n",
              "      <th>1</th>\n",
              "      <td>MSFT</td>\n",
              "      <td>0.194669</td>\n",
              "    </tr>\n",
              "    <tr>\n",
              "      <th>2</th>\n",
              "      <td>PEP</td>\n",
              "      <td>0.531236</td>\n",
              "    </tr>\n",
              "    <tr>\n",
              "      <th>3</th>\n",
              "      <td>PYPL</td>\n",
              "      <td>0.000000</td>\n",
              "    </tr>\n",
              "    <tr>\n",
              "      <th>4</th>\n",
              "      <td>SPY</td>\n",
              "      <td>0.208909</td>\n",
              "    </tr>\n",
              "    <tr>\n",
              "      <th>5</th>\n",
              "      <td>TSLA</td>\n",
              "      <td>0.004867</td>\n",
              "    </tr>\n",
              "  </tbody>\n",
              "</table>\n",
              "</div>"
            ],
            "text/plain": [
              "  asset  allocation\n",
              "0  AAPL    0.060318\n",
              "1  MSFT    0.194669\n",
              "2   PEP    0.531236\n",
              "3  PYPL    0.000000\n",
              "4   SPY    0.208909\n",
              "5  TSLA    0.004867"
            ]
          },
          "execution_count": 38,
          "metadata": {},
          "output_type": "execute_result"
        }
      ],
      "source": [
        "min_risk_df"
      ]
    },
    {
      "cell_type": "markdown",
      "metadata": {
        "id": "P5gy_XETtsoi"
      },
      "source": [
        "Submit \"minimum_risk.tsv\" in Gradescope."
      ]
    },
    {
      "cell_type": "markdown",
      "metadata": {
        "id": "mzyJGWDvWhva"
      },
      "source": [
        "## Part 7: Build Efficient Frontier Portfolios\n",
        "\n",
        "Compute 101 portfolios along the mean-variance efficient frontier with evenly spaced estimated returns.\n",
        "The first portfolio should be the minimum risk portfolio from part 4, and the last portfolio should be the maximum return portfolio from part 3.\n",
        "The estimated return of each portfolio should be higher than the previous by one percent of the difference between the first and last portfolios.\n",
        "That is, the estimated return of the portfolios should be similar to `np.linspace(min_risk_return, max_return, 101)`.\n"
      ]
    },
    {
      "cell_type": "code",
      "execution_count": 42,
      "metadata": {
        "id": "XaR6mKwvxZ4W"
      },
      "outputs": [
        {
          "name": "stdout",
          "output_type": "stream",
          "text": [
            "EF computed: 101 portfolios, returns from 0.008436454735552013 to 0.02531290353734532 std range: 0.028706971171405957 → 0.16340995157528712\n"
          ]
        }
      ],
      "source": [
        "# YOUR CHANGES HERE\n",
        "\n",
        "if isinstance(estimated_returns, pd.DataFrame):\n",
        "    if {\"asset\", \"return\"}.issubset(estimated_returns.columns):\n",
        "        mu_s = estimated_returns.set_index(\"asset\")[\"return\"].astype(float)\n",
        "    else:\n",
        "        mu_s = estimated_returns.squeeze(\"columns\").astype(float)\n",
        "else:\n",
        "    mu_s = pd.Series(estimated_returns, dtype=float)\n",
        "\n",
        "assets = mu_s.index.tolist()\n",
        "mu = mu_s.values.astype(float)  # shape (n,)\n",
        "\n",
        "# Align covariance to the same order of tickers\n",
        "Sigma = (\n",
        "    estimated_covariance\n",
        "    .reindex(index=assets, columns=assets)\n",
        "    .astype(float)\n",
        "    .values\n",
        ")\n",
        "n = len(assets)\n",
        "\n",
        "# Minimum-risk portfolio\n",
        "x_min = cp.Variable(n)\n",
        "prob_min = cp.Problem(cp.Minimize(cp.quad_form(x_min, Sigma)),\n",
        "                      [x_min >= 0, cp.sum(x_min) == 1])\n",
        "var_min = prob_min.solve()\n",
        "w_min = np.array(x_min.value, dtype=float)\n",
        "ret_min = float(mu @ w_min)\n",
        "\n",
        "# Maximum-return portfolio \n",
        "x_max = cp.Variable(n)\n",
        "prob_max = cp.Problem(cp.Maximize(mu @ x_max),\n",
        "                      [x_max >= 0, cp.sum(x_max) == 1])\n",
        "_ = prob_max.solve()\n",
        "w_max = np.array(x_max.value, dtype=float)\n",
        "ret_max = float(mu @ w_max)\n",
        "\n",
        "# 101 evenly spaced target returns \n",
        "r_grid = np.linspace(ret_min, ret_max, 101)\n",
        "\n",
        "ef_returns = []\n",
        "ef_variances = []\n",
        "ef_portfolios = []\n",
        "\n",
        "\n",
        "last_x = w_min  \n",
        "for r in r_grid:\n",
        "    x = cp.Variable(n)\n",
        "    constraints = [x >= 0, cp.sum(x) == 1, mu @ x == r]\n",
        "    obj = cp.Minimize(cp.quad_form(x, Sigma))\n",
        "    prob = cp.Problem(obj, constraints)\n",
        "    try:\n",
        "        _ = prob.solve(solver=cp.ECOS, warm_start=True)\n",
        "    except Exception:\n",
        "        _ = prob.solve(solver=cp.SCS, warm_start=True, verbose=False)\n",
        "\n",
        "    w = np.array(x.value, dtype=float)\n",
        "    # Fallback in rare numerical cases\n",
        "    if w is None or not np.isfinite(w).all():\n",
        "        w = last_x.copy()\n",
        "    last_x = w\n",
        "\n",
        "    ef_portfolios.append(w)\n",
        "    ef_returns.append(float(r))\n",
        "    ef_variances.append(float(w @ Sigma @ w))\n",
        "\n",
        "ef_portfolios = np.vstack(ef_portfolios)  # shape (101, n)\n",
        "ef_returns = np.array(ef_returns)\n",
        "ef_variances = np.array(ef_variances)\n",
        "\n",
        "print(\"EF computed: 101 portfolios,\",\n",
        "      \"returns from\", ef_returns[0], \"to\", ef_returns[-1],\n",
        "      \"std range:\", np.sqrt(ef_variances).min(), \"→\", np.sqrt(ef_variances).max())"
      ]
    },
    {
      "cell_type": "code",
      "execution_count": 43,
      "metadata": {},
      "outputs": [
        {
          "data": {
            "image/png": "[encoded data removed]",
            "text/plain": [
              "<Figure size 1000x500 with 1 Axes>"
            ]
          },
          "metadata": {},
          "output_type": "display_data"
        }
      ],
      "source": [
        "import matplotlib.pyplot as plt\n",
        "\n",
        "plt.figure(figsize=(10, 5))\n",
        "bottom = np.zeros(ef_portfolios.shape[0])\n",
        "\n",
        "# Ensure the plotting order matches the portfolio columns\n",
        "for i, a in enumerate(assets):\n",
        "    plt.bar(x=ef_returns,\n",
        "            height=ef_portfolios[:, i],\n",
        "            bottom=bottom,\n",
        "            label=a,\n",
        "            width=(ef_returns[1] - ef_returns[0]))\n",
        "    bottom += ef_portfolios[:, i]\n",
        "\n",
        "plt.legend()\n",
        "plt.xlabel(\"Portfolio Return\")\n",
        "plt.xlim(float(ef_returns.min()), float(ef_returns.max()))\n",
        "plt.ylabel(\"Portfolio Allocation\")\n",
        "plt.ylim(0, 1)\n",
        "plt.title(\"Portfolio Composition Map of the Mean-Variance Efficient Frontier\")\n",
        "plt.show()"
      ]
    },
    {
      "cell_type": "markdown",
      "metadata": {
        "id": "8e3WwTJvsDzh"
      },
      "source": [
        "Save the portfolios in a TSV file named \"efficient_frontier.tsv\".\n",
        "The header row should have columns \"index\", \"return\", \"risk\", and all the asset tickers.\n",
        "Each data row should have the portfolio index (0-100), the estimated return of the portfolio, the estimated standard deviation (not variance) of the portfolio, and all the asset allocations (which should sum to one)."
      ]
    },
    {
      "cell_type": "code",
      "execution_count": 45,
      "metadata": {
        "id": "e9DKadyNvniT"
      },
      "outputs": [],
      "source": [
        "# YOUR CHANGES HERE\n",
        "\n",
        "ef_risks = np.sqrt(ef_variances)\n",
        "\n",
        "# Build DataFrame\n",
        "ef_df = pd.DataFrame(ef_portfolios, columns=assets)\n",
        "ef_df.insert(0, \"risk\", ef_risks)\n",
        "ef_df.insert(0, \"return\", ef_returns)\n",
        "ef_df.insert(0, \"index\", np.arange(len(ef_returns)))\n",
        "\n",
        "# Allocations sum to 1 \n",
        "assert np.allclose(ef_df[assets].sum(axis=1), 1.0, atol=1e-6)\n",
        "\n",
        "# Save to TSV\n",
        "ef_df.to_csv(\"efficient_frontier.tsv\", sep=\"\\t\", index=False, float_format=\"%.6f\")"
      ]
    },
    {
      "cell_type": "markdown",
      "metadata": {
        "id": "jiOa06rItvbs"
      },
      "source": [
        "Submit \"efficient_frontier.tsv\" in Gradescope."
      ]
    },
    {
      "cell_type": "markdown",
      "metadata": {
        "id": "LoW0XBXAzzR6"
      },
      "source": [
        "## Part 8: Check Maximum Return Portfolio Stability\n",
        "\n",
        "Check the stability of the maximum return portfolio by resampling the estimated risk/return model.\n",
        "\n",
        "Repeat 1000 times -\n",
        "1. Use `np.random.multivariate_normal` to generate 23 return samples using your previously estimated risks and returns.\n",
        "2. Estimate the return of each asset using that resampled return history.\n",
        "3. Check which asset had the highest return in those resampled estimates.\n",
        "\n",
        "This procedure is a reduced and simplified version of the Michaud resampled efficient frontier procedure that takes uncertainty in the risk model into account."
      ]
    },
    {
      "cell_type": "code",
      "execution_count": 46,
      "metadata": {
        "id": "Xfke5V57xYvT"
      },
      "outputs": [
        {
          "name": "stdout",
          "output_type": "stream",
          "text": [
            "  asset  wins    share\n",
            "0  TSLA   451 0.451000\n",
            "1  MSFT   310 0.310000\n",
            "2  AAPL    99 0.099000\n",
            "3  PYPL    76 0.076000\n",
            "4   SPY    62 0.062000\n",
            "5   PEP     2 0.002000\n",
            "\n",
            "Original max-return asset: TSLA — wins in 0.451 of resamples.\n"
          ]
        },
        {
          "name": "stderr",
          "output_type": "stream",
          "text": [
            "/tmp/ipykernel_13066/1401760613.py:49: FutureWarning: Calling float on a single element Series is deprecated and will raise a TypeError in the future. Use float(ser.iloc[0]) instead\n",
            "  orig_best_share = float(stability_df.loc[stability_df[\"asset\"] == orig_best, \"share\"])\n"
          ]
        }
      ],
      "source": [
        "# YOUR CHANGES HERE\n",
        "\n",
        "# Standardize inputs \n",
        "if isinstance(estimated_returns, pd.DataFrame):\n",
        "    mu_s = estimated_returns.set_index(\"asset\")[\"return\"].astype(float)\n",
        "else:\n",
        "    mu_s = pd.Series(estimated_returns, dtype=float)\n",
        "assets = mu_s.index.tolist()\n",
        "mu = mu_s.values.astype(float)\n",
        "\n",
        "Sigma = (\n",
        "    estimated_covariance\n",
        "    .reindex(index=assets, columns=assets)\n",
        "    .astype(float)\n",
        ").values\n",
        "\n",
        "Sigma = (Sigma + Sigma.T) / 2.0\n",
        "eigvals = np.linalg.eigvalsh(Sigma)\n",
        "min_eig = eigvals.min()\n",
        "if min_eig < 1e-12:\n",
        "    # add a small ridge to make it PSD\n",
        "    Sigma += np.eye(Sigma.shape[0]) * (1e-8 - min_eig)\n",
        "\n",
        "# Resample\n",
        "B = 1000       # number of resamples\n",
        "T = 23         # length of return history to simulate (differences of 24 prices)\n",
        "rng = np.random.default_rng(704)\n",
        "\n",
        "winner_counts = np.zeros(len(assets), dtype=int)\n",
        "\n",
        "for _ in range(B):\n",
        "    # simulate T monthly returns from MVN(mu, Sigma)\n",
        "    sim = rng.multivariate_normal(mean=mu, cov=Sigma, size=T)  # shape (T, n_assets)\n",
        "    sim_means = sim.mean(axis=0)                                # mean return per asset\n",
        "    winner = int(np.argmax(sim_means))                          # index of top-mean asset\n",
        "    winner_counts[winner] += 1\n",
        "\n",
        "winner_share = winner_counts / B\n",
        "\n",
        "stability_df = pd.DataFrame({\n",
        "    \"asset\": assets,\n",
        "    \"wins\": winner_counts,\n",
        "    \"share\": winner_share\n",
        "}).sort_values(\"share\", ascending=False).reset_index(drop=True)\n",
        "\n",
        "print(stability_df)\n",
        "\n",
        "orig_best = mu_s.idxmax()\n",
        "orig_best_share = float(stability_df.loc[stability_df[\"asset\"] == orig_best, \"share\"])\n",
        "print(f\"\\nOriginal max-return asset: {orig_best} — wins in {orig_best_share:.3f} of resamples.\")\n"
      ]
    },
    {
      "cell_type": "markdown",
      "metadata": {
        "id": "fes_ScDyz0jp"
      },
      "source": [
        "Save a file \"max_return_probabilities.tsv\" with the distribution of highest return assets.\n",
        "The header row should have columns \"asset\" and \"probability\".\n",
        "There should be a data row for each asset and its sample probability of having the highest return based on those 1000 resampled estimates.\n"
      ]
    },
    {
      "cell_type": "code",
      "execution_count": null,
      "metadata": {
        "id": "ZAjr15ASvj1S"
      },
      "outputs": [],
      "source": [
        "# YOUR CHANGES HERE\n",
        "\n",
        "B = 1000  # number of resamples used\n",
        "\n",
        "# Build probability DataFrame\n",
        "prob_df = pd.DataFrame({\n",
        "    \"asset\": assets,\n",
        "    \"probability\": winner_counts / B\n",
        "})\n",
        "\n",
        "# Save to TSV \n",
        "prob_df.to_csv(\"max_return_probabilities.tsv\", sep=\"\\t\", index=False, float_format=\"%.6f\")"
      ]
    },
    {
      "cell_type": "code",
      "execution_count": 48,
      "metadata": {},
      "outputs": [
        {
          "data": {
            "text/html": [
              "<div>\n",
              "<style scoped>\n",
              "    .dataframe tbody tr th:only-of-type {\n",
              "        vertical-align: middle;\n",
              "    }\n",
              "\n",
              "    .dataframe tbody tr th {\n",
              "        vertical-align: top;\n",
              "    }\n",
              "\n",
              "    .dataframe thead th {\n",
              "        text-align: right;\n",
              "    }\n",
              "</style>\n",
              "<table border=\"1\" class=\"dataframe\">\n",
              "  <thead>\n",
              "    <tr style=\"text-align: right;\">\n",
              "      <th></th>\n",
              "      <th>asset</th>\n",
              "      <th>probability</th>\n",
              "    </tr>\n",
              "  </thead>\n",
              "  <tbody>\n",
              "    <tr>\n",
              "      <th>0</th>\n",
              "      <td>AAPL</td>\n",
              "      <td>0.099000</td>\n",
              "    </tr>\n",
              "    <tr>\n",
              "      <th>1</th>\n",
              "      <td>MSFT</td>\n",
              "      <td>0.310000</td>\n",
              "    </tr>\n",
              "    <tr>\n",
              "      <th>2</th>\n",
              "      <td>PEP</td>\n",
              "      <td>0.002000</td>\n",
              "    </tr>\n",
              "    <tr>\n",
              "      <th>3</th>\n",
              "      <td>PYPL</td>\n",
              "      <td>0.076000</td>\n",
              "    </tr>\n",
              "    <tr>\n",
              "      <th>4</th>\n",
              "      <td>SPY</td>\n",
              "      <td>0.062000</td>\n",
              "    </tr>\n",
              "  </tbody>\n",
              "</table>\n",
              "</div>"
            ],
            "text/plain": [
              "  asset  probability\n",
              "0  AAPL     0.099000\n",
              "1  MSFT     0.310000\n",
              "2   PEP     0.002000\n",
              "3  PYPL     0.076000\n",
              "4   SPY     0.062000"
            ]
          },
          "execution_count": 48,
          "metadata": {},
          "output_type": "execute_result"
        }
      ],
      "source": [
        "prob_df.head()"
      ]
    },
    {
      "cell_type": "code",
      "execution_count": 49,
      "metadata": {},
      "outputs": [
        {
          "data": {
            "text/plain": [
              "(6, 2)"
            ]
          },
          "execution_count": 49,
          "metadata": {},
          "output_type": "execute_result"
        }
      ],
      "source": [
        "prob_df.shape"
      ]
    },
    {
      "cell_type": "markdown",
      "metadata": {
        "id": "2Xd34FQ6txoj"
      },
      "source": [
        "Submit \"max_return_probabilities.tsv\" in Gradescope."
      ]
    },
    {
      "cell_type": "markdown",
      "metadata": {
        "id": "SYbJ21qUYvL_"
      },
      "source": [
        "## Part 9: Acknowledgments\n",
        "\n",
        "Make a file \"acknowledgments.txt\" documenting any outside sources or help on this project.\n",
        "If you discussed this assignment with anyone, please acknowledge them here.\n",
        "If you used any libraries not mentioned in this module's content, please list them with a brief explanation what you used them for.\n",
        "If you used any generative AI tools, please add links to your transcripts below, and any other information that you feel is necessary to comply with the generative AI policy.\n",
        "If no acknowledgements are appropriate, just write none in the file.\n"
      ]
    },
    {
      "cell_type": "code",
      "execution_count": 50,
      "metadata": {},
      "outputs": [],
      "source": [
        "with open(\"acknowledgments.txt\", \"w\") as f:\n",
        "    f.write(\"I only used Week 1 lecture code.\\n\")"
      ]
    },
    {
      "cell_type": "markdown",
      "metadata": {
        "id": "H3oWYYHlt42V"
      },
      "source": [
        "Submit \"acknowledgements.txt\" in Gradescope."
      ]
    },
    {
      "cell_type": "markdown",
      "metadata": {
        "id": "b8FWiTjvwscA"
      },
      "source": [
        "## Part 10: Code\n",
        "\n",
        "Please submit a Jupyter notebook that can reproduce all your calculations and recreate the previously submitted files.\n",
        "You do not need to provide code for data collection if you did that by manually."
      ]
    },
    {
      "cell_type": "markdown",
      "metadata": {
        "id": "HDEYI-K8vcUW"
      },
      "source": [
        "Submit \"project.ipynb\" in Gradescope."
      ]
    }
  ],
  "metadata": {
    "colab": {
      "toc_visible": false
    },
    "kernelspec": {
      "display_name": "Python 3",
      "name": "python3"
    },
    "language_info": {
      "codemirror_mode": {
        "name": "ipython",
        "version": 3
      },
      "file_extension": ".py",
      "mimetype": "text/x-python",
      "name": "python",
      "nbconvert_exporter": "python",
      "pygments_lexer": "ipython3",
      "version": "3.12.1"
    }
  },
  "nbformat": 4,
  "nbformat_minor": 0
}
